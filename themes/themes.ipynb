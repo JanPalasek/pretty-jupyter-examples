{
 "cells": [
  {
   "cell_type": "raw",
   "metadata": {},
   "source": [
    "title: Themes\n",
    "output:\n",
    "    html:\n",
    "        theme: journal"
   ]
  },
  {
   "cell_type": "code",
   "execution_count": 1,
   "metadata": {},
   "outputs": [],
   "source": [
    "# -.-|m { output: false, input: true }\n",
    "\n",
    "%load_ext pretty_jupyter\n",
    "import pandas as pd"
   ]
  },
  {
   "cell_type": "code",
   "execution_count": 2,
   "metadata": {},
   "outputs": [
    {
     "data": {
      "text/markdown": [
       "\n",
       "## Introduction\n",
       "\n",
       "This notebook serves as a demonstration, how to use themes. To apply the theme, we just need to specify `\"theme\"` attribute in the notebook's metadata. Check out this notebook's metadata to find it.\n",
       "\n",
       "In this instance, we specified `\"theme\": \"journal\"` and got this nice dark theme."
      ],
      "text/plain": [
       "<IPython.core.display.Markdown object>"
      ]
     },
     "execution_count": 2,
     "metadata": {},
     "output_type": "execute_result"
    }
   ],
   "source": [
    "%%jmd\n",
    "\n",
    "## Introduction\n",
    "\n",
    "This notebook serves as a demonstration, how to use themes. To apply the theme, we just need to specify `\"theme\"` attribute in the notebook's metadata. Check out this notebook's metadata to find it.\n",
    "\n",
    "In this instance, we specified `\"theme\": \"journal\"` and got this nice dark theme."
   ]
  },
  {
   "cell_type": "code",
   "execution_count": 3,
   "metadata": {},
   "outputs": [],
   "source": [
    "d = pd.DataFrame({\"a\": [1, 2, 3, 4]})"
   ]
  },
  {
   "cell_type": "code",
   "execution_count": 4,
   "metadata": {},
   "outputs": [
    {
     "data": {
      "text/markdown": [
       "\n",
       "## Tabset\n",
       "<span class='pj-token' style='display: none;'>tabset|O_O|tabset-pills</span>\n",
       "\n",
       "### Tab 1\n",
       "\n",
       "<table border=\"1\" class=\"dataframe\">\n",
       "  <thead>\n",
       "    <tr style=\"text-align: right;\">\n",
       "      <th></th>\n",
       "      <th>a</th>\n",
       "    </tr>\n",
       "  </thead>\n",
       "  <tbody>\n",
       "    <tr>\n",
       "      <th>0</th>\n",
       "      <td>1</td>\n",
       "    </tr>\n",
       "    <tr>\n",
       "      <th>1</th>\n",
       "      <td>2</td>\n",
       "    </tr>\n",
       "    <tr>\n",
       "      <th>2</th>\n",
       "      <td>3</td>\n",
       "    </tr>\n",
       "    <tr>\n",
       "      <th>3</th>\n",
       "      <td>4</td>\n",
       "    </tr>\n",
       "  </tbody>\n",
       "</table>\n",
       "\n",
       "### Tab 2\n",
       "\n",
       "Some maths here: $a \\cdot a = a^2$"
      ],
      "text/plain": [
       "<IPython.core.display.Markdown object>"
      ]
     },
     "execution_count": 4,
     "metadata": {},
     "output_type": "execute_result"
    }
   ],
   "source": [
    "%%jmd\n",
    "\n",
    "## Tabset\n",
    "[//]: <> (-.- tabset tabset-pills)\n",
    "\n",
    "### Tab 1\n",
    "\n",
    "{{ d.head().to_html() }}\n",
    "\n",
    "### Tab 2\n",
    "\n",
    "Some maths here: $a \\cdot a = a^2$"
   ]
  }
 ],
 "metadata": {
  "kernelspec": {
   "display_name": "Python 3.9.13 ('venv': venv)",
   "language": "python",
   "name": "python3"
  },
  "language_info": {
   "codemirror_mode": {
    "name": "ipython",
    "version": 3
   },
   "file_extension": ".py",
   "mimetype": "text/x-python",
   "name": "python",
   "nbconvert_exporter": "python",
   "pygments_lexer": "ipython3",
   "version": "3.9.13"
  },
  "orig_nbformat": 4,
  "vscode": {
   "interpreter": {
    "hash": "4001391cff8576e5f8bd84e9f8399980545d172b9d1487fb90005c2dcd29ff5a"
   }
  }
 },
 "nbformat": 4,
 "nbformat_minor": 2
}
