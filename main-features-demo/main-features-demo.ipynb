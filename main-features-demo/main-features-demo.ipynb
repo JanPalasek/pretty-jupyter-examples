{
 "cells": [
  {
   "cell_type": "code",
   "execution_count": 4,
   "metadata": {},
   "outputs": [],
   "source": [
    "%load_ext pretty_jupyter"
   ]
  },
  {
   "cell_type": "markdown",
   "metadata": {},
   "source": [
    "# Introduction\n",
    "\n",
    "The point of this notebook is to demonstrate the main features of Pretty Jupyter. This document, however, does not mean to repeat everything described on the wiki, rather than it means to show how to actually use it in practice."
   ]
  },
  {
   "cell_type": "markdown",
   "metadata": {},
   "source": [
    "# Styling\n",
    "\n",
    "As you can notice in the generated HTML document, the styles are quite different than the default. You can tweak them even more by classic `<style>` tag. The following cell does just that and it alters the header of this chapter."
   ]
  },
  {
   "cell_type": "code",
   "execution_count": 5,
   "metadata": {},
   "outputs": [
    {
     "data": {
      "text/html": [
       "\n",
       "<style>\n",
       "    #Styling {\n",
       "        font-weight: bold;\n",
       "        font-family: Helvetica;\n",
       "    }\n",
       "</style>\n"
      ],
      "text/plain": [
       "<IPython.core.display.HTML object>"
      ]
     },
     "metadata": {},
     "output_type": "display_data"
    }
   ],
   "source": [
    "%%html\n",
    "\n",
    "<style>\n",
    "    #Styling {\n",
    "        font-weight: bold;\n",
    "        font-family: Helvetica;\n",
    "    }\n",
    "</style>"
   ]
  },
  {
   "cell_type": "markdown",
   "metadata": {},
   "source": [
    "JavaScript can be applied very similarly."
   ]
  },
  {
   "cell_type": "markdown",
   "metadata": {},
   "source": [
    "# Table of Contents\n",
    "\n",
    "One of the main capabilities is **Table of Contents**. It is automatically generated based on headers specified in Markdown or HTML (Markdown is recommended for safety). It can however be turned off by specifying in the notebook's metadata. We can view the `main-features-demo.ipynb` notebook as json and overwrite the following property to false:\n",
    "\n",
    "```json\n",
    "\"toc\": true\n",
    "```"
   ]
  },
  {
   "cell_type": "markdown",
   "metadata": {},
   "source": [
    "# Tabset\n",
    "\n",
    "Another important functionality is the **Tabset**. It allows us to switch the tabs. It works the following way:\n",
    "\n",
    "1. On the line below some header we write the following: `[//]: <X> (-.- tabset)`. **Remove the `X` between `<` and `>`**, it has been added for technical reasons.\n",
    "2. All sub-headers of this header and their content becomes tabbed content.\n",
    "\n",
    "## Tabset Root\n",
    "[//]: <> (-.- tabset)\n",
    "\n",
    "To demonstrate this, we wrote this magical line under the Tabset Root header. And hence the following subsections will be tabbed.\n",
    "\n",
    "### Subsection 1\n",
    "Content 1.\n",
    "\n",
    "### Subsection 2\n",
    "Content 2 with some math:\n",
    "\n",
    "$$ \\frac{a^2}{a} = a$$\n",
    "\n",
    "### Subsection 3\n",
    "Content 3.\n",
    "\n",
    "<h2 class=\"toc-ignore\"></h2>\n",
    "\n",
    "The tabset is automatically ended by a header of same or higher magnitude. E.g. if tabset is on header `<h2>` (equivalent to `##`), the it can be ended by `<h1>` or `<h2>`.\n",
    "\n",
    "We can use this to our advantage and use an empty header element to just end the tabset such as this:\n",
    "\n",
    "```html\n",
    "<h2 class=\"toc-ignore\"></h2>\n",
    "```\n",
    "\n",
    "(`toc-ignore` class removes is from table of contents)"
   ]
  },
  {
   "cell_type": "markdown",
   "metadata": {},
   "source": [
    "# Markdown with Jinja\n",
    "\n",
    "Another very important feature is so called **Jinja Markdown**. It allows us to combine Markdown with Python variables. It can even be combined with using Maths. It is demonstrated in the cells below:"
   ]
  },
  {
   "cell_type": "code",
   "execution_count": 6,
   "metadata": {},
   "outputs": [],
   "source": [
    "a = 10\n",
    "b = 3"
   ]
  },
  {
   "cell_type": "code",
   "execution_count": 7,
   "metadata": {},
   "outputs": [
    {
     "data": {
      "text/markdown": [
       "\n",
       "$$\n",
       "\n",
       "\\frac{a}{b} = \\frac{ 10 }{ 3 } = 3.33\n",
       "\n",
       "$$"
      ],
      "text/plain": [
       "<IPython.core.display.Markdown object>"
      ]
     },
     "execution_count": 7,
     "metadata": {},
     "output_type": "execute_result"
    }
   ],
   "source": [
    "%%jinja markdown\n",
    "\n",
    "$$\n",
    "\n",
    "\\frac{a}{b} = \\frac{ {{a}} }{ {{b}} } = {{ (a / b) | round(2) }}\n",
    "\n",
    "$$"
   ]
  },
  {
   "cell_type": "markdown",
   "metadata": {},
   "source": [
    "To make a code cell a Jinja Markdown cell, its first line needs to have the following content:\n",
    "\n",
    "```\n",
    "%%jinja markdown\n",
    "```\n",
    "\n",
    "Then you write standard Markdown and when you want to use some variable, you specify e.g. `{{ variable_name }}`."
   ]
  },
  {
   "cell_type": "markdown",
   "metadata": {},
   "source": [
    "This concept is very powerful and can be used to display dynamically created tables or images, too. By default, the input of the Markdown is removed in the HTML document. This can, however, be overidden, see the docs."
   ]
  },
  {
   "cell_type": "code",
   "execution_count": 8,
   "metadata": {},
   "outputs": [
    {
     "data": {
      "text/markdown": [
       "\n",
       "Since Jinja Markdown cells are very common, instead of `%jinja markdown` we can write a shortcut: `%%jmd`."
      ],
      "text/plain": [
       "<IPython.core.display.Markdown object>"
      ]
     },
     "execution_count": 8,
     "metadata": {},
     "output_type": "execute_result"
    }
   ],
   "source": [
    "%%jmd\n",
    "\n",
    "Since Jinja Markdown cells are very common, instead of `%jinja markdown` we can write a shortcut: `%%jmd`."
   ]
  },
  {
   "cell_type": "markdown",
   "metadata": {},
   "source": [
    "## Tables\n",
    "\n",
    "Jinja Markdown is powerful enough to print e.g. Pandas tables as part of the markdown, and even hide them with `<details>` tag."
   ]
  },
  {
   "cell_type": "code",
   "execution_count": 9,
   "metadata": {},
   "outputs": [],
   "source": [
    "import pandas as pd\n",
    "\n",
    "df = pd.DataFrame({\"col1\": [1, 2, 3], \"col2\": [\"One\", \"Two\", \"Three\"]})"
   ]
  },
  {
   "cell_type": "code",
   "execution_count": 12,
   "metadata": {},
   "outputs": [
    {
     "data": {
      "text/markdown": [
       "\n",
       "<details open>\n",
       "<summary>Details can be viewed inside.</summary>\n",
       "\n",
       "<table border=\"1\" class=\"dataframe\">\n",
       "  <thead>\n",
       "    <tr style=\"text-align: right;\">\n",
       "      <th></th>\n",
       "      <th>col1</th>\n",
       "      <th>col2</th>\n",
       "    </tr>\n",
       "  </thead>\n",
       "  <tbody>\n",
       "    <tr>\n",
       "      <th>0</th>\n",
       "      <td>1</td>\n",
       "      <td>One</td>\n",
       "    </tr>\n",
       "    <tr>\n",
       "      <th>1</th>\n",
       "      <td>2</td>\n",
       "      <td>Two</td>\n",
       "    </tr>\n",
       "    <tr>\n",
       "      <th>2</th>\n",
       "      <td>3</td>\n",
       "      <td>Three</td>\n",
       "    </tr>\n",
       "  </tbody>\n",
       "</table>\n",
       "\n",
       "</details>"
      ],
      "text/plain": [
       "<IPython.core.display.Markdown object>"
      ]
     },
     "execution_count": 12,
     "metadata": {},
     "output_type": "execute_result"
    }
   ],
   "source": [
    "%%jmd\n",
    "\n",
    "<details open>\n",
    "<summary>Details can be viewed inside.</summary>\n",
    "\n",
    "{{ df.to_html() }}\n",
    "\n",
    "</details>"
   ]
  },
  {
   "cell_type": "markdown",
   "metadata": {},
   "source": [
    "## Plots\n",
    "\n",
    "Even plots can be displayed as part of the Jinja Markdown. However, in order to do that, we need to create the image element manually, which is a bit tedious, however a useful helper function can be made."
   ]
  },
  {
   "cell_type": "code",
   "execution_count": 16,
   "metadata": {},
   "outputs": [],
   "source": [
    "import matplotlib.pyplot as plt\n",
    "import seaborn as sns\n",
    "sns.set_theme()\n",
    "\n",
    "import base64\n",
    "from io import BytesIO\n",
    "\n",
    "IMG_FORMAT = r\"<img src='data:image/png;base64,{encoded}' />\"\n",
    "\n",
    "tmpfile = BytesIO()\n",
    "\n",
    "fig, ax = plt.subplots()\n",
    "sns.countplot(x=df[\"col1\"], ax=ax).set(title=\"Example Figure\")\n",
    "fig.savefig(tmpfile, format=\"png\")\n",
    "plt.close()\n",
    "\n",
    "encoded = IMG_FORMAT.format(encoded=base64.b64encode(tmpfile.getvalue()).decode('utf-8'))"
   ]
  },
  {
   "cell_type": "code",
   "execution_count": 17,
   "metadata": {},
   "outputs": [
    {
     "data": {
      "text/markdown": [
       "\n",
       "The figure is displayed below:\n",
       "\n",
       "<img src='data:image/png;base64,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' />\n",
       "\n",
       "And we can continue our text further here."
      ],
      "text/plain": [
       "<IPython.core.display.Markdown object>"
      ]
     },
     "execution_count": 17,
     "metadata": {},
     "output_type": "execute_result"
    }
   ],
   "source": [
    "%%jmd\n",
    "\n",
    "The figure is displayed below:\n",
    "\n",
    "{{ encoded }}\n",
    "\n",
    "And we can continue our text further here."
   ]
  },
  {
   "cell_type": "markdown",
   "metadata": {},
   "source": [
    "# Code Folding\n",
    "\n",
    "You might've noticed that there are a lot of `Hide` buttons on the right. This is a functionality called **Code Folding**. It allows us to hide and show code and results in a more dynamic and visually appealing report. There is also a button on the top with `Code All` that allows us to toggle all codes on or off.\n",
    "\n",
    "This functionality can be tweaked in the notebook's metadata. There is the following property in this notebook's json (open it as text):\n",
    "\n",
    "```json\n",
    "\"code_folding\": \"show\"\n",
    "```\n",
    "\n",
    "Value `show` means that all code cells inputs will be visible at the document load. If we specify value `hide` in there, then all codes will be hidden at the beginning (this is also default when the property is missing). Any other value will result in the Code Folding functionality being turned off, hence all inputs will be visible."
   ]
  },
  {
   "cell_type": "code",
   "execution_count": 11,
   "metadata": {},
   "outputs": [],
   "source": [
    "a = 10"
   ]
  },
  {
   "cell_type": "markdown",
   "metadata": {},
   "source": [
    "# Recommendations and Best Practices\n",
    "\n",
    "**Use Jinja Markdown instead of basic Markdown cell**\n",
    "\n",
    "You can hide the input using some kind of extension, so it will not bother you. And the added flexibility is very useful. And the shortcut magic `%%jmd` makes it very efficient.\n",
    "\n",
    "**Be very careful about HTML tags**\n",
    "\n",
    "HTML tags are very powerful way and can be used in combination with Markdown. However, if there is a Markdown equivalent, it should be favoured. If you make an error in the HTML tags in the wrong place (e.g. you forget to close `<em>` tag), it can have devastating effects on the output, since it messes up the DOM structure a lot.\n",
    "\n",
    "**Use headers in order**\n",
    "\n",
    "Do not use for example first `#`, then `###` and then `##`.Use them in a proper order. It's tempting to use lower header to have smaller letters, but the right way to do it is by styling the header element. Some bad orders can have a negative effect on the quality of the output."
   ]
  }
 ],
 "metadata": {
  "code_folding": "show",
  "kernelspec": {
   "display_name": "Python 3.9.13 ('venv': venv)",
   "language": "python",
   "name": "python3"
  },
  "language_info": {
   "codemirror_mode": {
    "name": "ipython",
    "version": 3
   },
   "file_extension": ".py",
   "mimetype": "text/x-python",
   "name": "python",
   "nbconvert_exporter": "python",
   "pygments_lexer": "ipython3",
   "version": "3.9.13"
  },
  "orig_nbformat": 4,
  "title": "Main Features Demo",
  "toc": true,
  "vscode": {
   "interpreter": {
    "hash": "4001391cff8576e5f8bd84e9f8399980545d172b9d1487fb90005c2dcd29ff5a"
   }
  }
 },
 "nbformat": 4,
 "nbformat_minor": 2
}
