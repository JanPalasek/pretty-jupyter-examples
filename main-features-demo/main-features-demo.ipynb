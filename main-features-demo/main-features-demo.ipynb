{
 "cells": [
  {
   "cell_type": "raw",
   "metadata": {
    "collapsed": false,
    "pycharm": {
     "name": "#%% raw\n"
    }
   },
   "source": [
    "title: Main Features Demo\n",
    "date: \"Generated: {{ datetime.now().strftime('%Y-%m-%d') }}\"\n",
    "output:\n",
    "    general:\n",
    "        input_jinja: true\n",
    "    html:\n",
    "        code_folding: show\n",
    "        code_tools: true"
   ]
  },
  {
   "cell_type": "code",
   "execution_count": 1,
   "metadata": {
    "pycharm": {
     "name": "#%%\n"
    }
   },
   "outputs": [],
   "source": [
    "%load_ext pretty_jupyter"
   ]
  },
  {
   "cell_type": "markdown",
   "metadata": {
    "pycharm": {
     "name": "#%% md\n"
    }
   },
   "source": [
    "# Introduction\n",
    "\n",
    "The point of this notebook is to demonstrate the main features of Pretty Jupyter. This document, however, does not mean to repeat everything described on the wiki, rather than it means to show how to actually use it in practice."
   ]
  },
  {
   "cell_type": "markdown",
   "metadata": {
    "pycharm": {
     "name": "#%% md\n"
    }
   },
   "source": [
    "# Styling\n",
    "\n",
    "As you can notice in the generated HTML document, the styles are quite different than the default. You can tweak them even more by classic `<style>` tag. The following cell does just that and it alters the header of this chapter."
   ]
  },
  {
   "cell_type": "code",
   "execution_count": 2,
   "metadata": {
    "pj_metadata": {
     "output": false
    },
    "pycharm": {
     "name": "#%%\n"
    }
   },
   "outputs": [
    {
     "data": {
      "text/html": [
       "\n",
       "<style>\n",
       "    #Styling {\n",
       "        font-weight: bold;\n",
       "        font-family: Helvetica;\n",
       "    }\n",
       "</style>\n"
      ],
      "text/plain": [
       "<IPython.core.display.HTML object>"
      ]
     },
     "metadata": {},
     "output_type": "display_data"
    }
   ],
   "source": [
    "%%html\n",
    "\n",
    "<style>\n",
    "    #Styling {\n",
    "        font-weight: bold;\n",
    "        font-family: Helvetica;\n",
    "    }\n",
    "</style>"
   ]
  },
  {
   "cell_type": "markdown",
   "metadata": {
    "pj_metadata": {
     "input": true
    },
    "pycharm": {
     "name": "#%% md\n"
    }
   },
   "source": [
    "JavaScript can be applied very similarly."
   ]
  },
  {
   "cell_type": "markdown",
   "metadata": {
    "pycharm": {
     "name": "#%% md\n"
    }
   },
   "source": [
    "# Table of Contents\n",
    "\n",
    "One of the main capabilities is **Table of Contents**. It is automatically generated based on headers specified in Markdown or HTML (Markdown is recommended for safety). It can however be turned off by specifying in the notebook's metadata. We can view the `main-features-demo.ipynb` notebook as json and overwrite the following property to false:\n",
    "\n",
    "```json\n",
    "\"toc\": true\n",
    "```"
   ]
  },
  {
   "cell_type": "markdown",
   "metadata": {
    "pycharm": {
     "name": "#%% md\n"
    }
   },
   "source": [
    "# Tabset\n",
    "\n",
    "Another important functionality is the **Tabset**. It allows us to switch the tabs. It works the following way:\n",
    "\n",
    "1. On the line below some header we write the following: `[//]: <X> (-.- tabset)`. **Remove the `X` between `<` and `>`**, it has been added for technical reasons.\n",
    "2. All sub-headers of this header and their content becomes tabbed content.\n",
    "\n",
    "## Tabset Root\n",
    "[//]: <> (-.- tabset)\n",
    "\n",
    "To demonstrate this, we wrote this magical line under the Tabset Root header. And hence the following subsections will be tabbed.\n",
    "\n",
    "### Subsection 1\n",
    "Content 1.\n",
    "\n",
    "### Subsection 2\n",
    "Content 2 with some math:\n",
    "\n",
    "$$ \\frac{a^2}{a} = a$$\n",
    "\n",
    "### Subsection 3\n",
    "Content 3.\n",
    "\n",
    "## \n",
    "[//]: <> (-.- .toc-ignore)\n",
    "\n",
    "The tabset is automatically ended by a header of same or higher magnitude. E.g. if tabset is on header `##`, the it can be ended by `#` or `##`.\n",
    "\n",
    "We can use this to our advantage and use an empty header element to just end the tabset such as this:\n",
    "\n",
    "```markdown\n",
    "## \n",
    "[//]: <X> (-.- .toc-ignore)\n",
    "```\n",
    "\n",
    "(**again without X between < and >, it was added only for technical reasons**, `toc-ignore` class removes is from table of contents)"
   ]
  },
  {
   "cell_type": "markdown",
   "metadata": {
    "pj_metadata": {
     "input": true
    },
    "pycharm": {
     "name": "#%% md\n"
    }
   },
   "source": [
    "# Markdown with Jinja\n",
    "\n",
    "Another very important feature is so called **Jinja Markdown**. It allows us to combine Markdown with Python variables. It can even be combined with using Maths. It is demonstrated in the cells below:"
   ]
  },
  {
   "cell_type": "code",
   "execution_count": 3,
   "metadata": {
    "pycharm": {
     "name": "#%%\n"
    }
   },
   "outputs": [],
   "source": [
    "a = 10\n",
    "b = 3"
   ]
  },
  {
   "cell_type": "code",
   "execution_count": 4,
   "metadata": {
    "pj_metadata": {
     "input": true
    },
    "pycharm": {
     "name": "#%%\n"
    }
   },
   "outputs": [
    {
     "data": {
      "text/markdown": [
       "\n",
       "$$\n",
       "\\frac{a}{b} = \\frac{ 10 }{ 3 } = 3.33\n",
       "$$"
      ],
      "text/plain": [
       "<IPython.core.display.Markdown object>"
      ]
     },
     "execution_count": 4,
     "metadata": {},
     "output_type": "execute_result"
    }
   ],
   "source": [
    "%%jmd\n",
    "\n",
    "$$\n",
    "\\frac{a}{b} = \\frac{ {{a}} }{ {{b}} } = {{ (a / b) | round(2) }}\n",
    "$$"
   ]
  },
  {
   "cell_type": "markdown",
   "metadata": {
    "pycharm": {
     "name": "#%% md\n"
    }
   },
   "source": [
    "To make a code cell a Jinja Markdown cell, its first line needs to have the following content:\n",
    "\n",
    "```\n",
    "%%jinja markdown\n",
    "```\n",
    "\n",
    "Then you write standard Markdown and when you want to use some variable, you specify e.g. `{{ variable_name }}`."
   ]
  },
  {
   "cell_type": "markdown",
   "metadata": {
    "pycharm": {
     "name": "#%% md\n"
    }
   },
   "source": [
    "This concept is very powerful and can be used to display dynamically created tables or images, too. By default, the input of the Markdown is removed in the HTML document. This can, however, be overidden, see the docs."
   ]
  },
  {
   "cell_type": "code",
   "execution_count": 5,
   "metadata": {
    "pycharm": {
     "name": "#%%\n"
    }
   },
   "outputs": [
    {
     "data": {
      "text/markdown": [
       "\n",
       "Since Jinja Markdown cells are very common, instead of `%jinja markdown` we can write a shortcut: `%%jmd`."
      ],
      "text/plain": [
       "<IPython.core.display.Markdown object>"
      ]
     },
     "execution_count": 5,
     "metadata": {},
     "output_type": "execute_result"
    }
   ],
   "source": [
    "%%jmd\n",
    "\n",
    "Since Jinja Markdown cells are very common, instead of `%jinja markdown` we can write a shortcut: `%%jmd`."
   ]
  },
  {
   "cell_type": "markdown",
   "metadata": {
    "pycharm": {
     "name": "#%% md\n"
    }
   },
   "source": [
    "## Tables\n",
    "\n",
    "Jinja Markdown is powerful enough to print e.g. Pandas tables as part of the markdown, and even hide them with `<details>` tag."
   ]
  },
  {
   "cell_type": "code",
   "execution_count": 6,
   "metadata": {
    "pycharm": {
     "name": "#%%\n"
    }
   },
   "outputs": [],
   "source": [
    "import pandas as pd\n",
    "\n",
    "df = pd.DataFrame({\"col1\": [1, 2, 3], \"col2\": [\"One\", \"Two\", \"Three\"]})"
   ]
  },
  {
   "cell_type": "code",
   "execution_count": 7,
   "metadata": {
    "pycharm": {
     "name": "#%%\n"
    }
   },
   "outputs": [
    {
     "data": {
      "text/markdown": [
       "\n",
       "<details open>\n",
       "<summary>Details can be viewed inside.</summary>\n",
       "\n",
       "<table border=\"1\" class=\"dataframe\">\n",
       "  <thead>\n",
       "    <tr style=\"text-align: right;\">\n",
       "      <th></th>\n",
       "      <th>col1</th>\n",
       "      <th>col2</th>\n",
       "    </tr>\n",
       "  </thead>\n",
       "  <tbody>\n",
       "    <tr>\n",
       "      <th>0</th>\n",
       "      <td>1</td>\n",
       "      <td>One</td>\n",
       "    </tr>\n",
       "    <tr>\n",
       "      <th>1</th>\n",
       "      <td>2</td>\n",
       "      <td>Two</td>\n",
       "    </tr>\n",
       "    <tr>\n",
       "      <th>2</th>\n",
       "      <td>3</td>\n",
       "      <td>Three</td>\n",
       "    </tr>\n",
       "  </tbody>\n",
       "</table>\n",
       "\n",
       "</details>"
      ],
      "text/plain": [
       "<IPython.core.display.Markdown object>"
      ]
     },
     "execution_count": 7,
     "metadata": {},
     "output_type": "execute_result"
    }
   ],
   "source": [
    "%%jmd\n",
    "\n",
    "<details open>\n",
    "<summary>Details can be viewed inside.</summary>\n",
    "\n",
    "{{ df.to_html() }}\n",
    "\n",
    "</details>"
   ]
  },
  {
   "cell_type": "markdown",
   "metadata": {
    "pycharm": {
     "name": "#%% md\n"
    }
   },
   "source": [
    "## Plots\n",
    "\n",
    "Even plots can be displayed as part of the Jinja Markdown."
   ]
  },
  {
   "cell_type": "code",
   "execution_count": 8,
   "metadata": {
    "pycharm": {
     "name": "#%%\n"
    }
   },
   "outputs": [],
   "source": [
    "from pretty_jupyter.helpers import matplotlib_fig_to_html\n",
    "import seaborn as sns\n",
    "import matplotlib.pyplot as plt\n",
    "sns.set_theme()"
   ]
  },
  {
   "cell_type": "code",
   "execution_count": 9,
   "metadata": {
    "pycharm": {
     "name": "#%%\n"
    }
   },
   "outputs": [
    {
     "data": {
      "text/markdown": [
       "\n",
       "The figure is displayed below:\n",
       "\n",
       "<img src='data:image/png;base64,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' />\n",
       "\n",
       "And we can continue our text further here."
      ],
      "text/plain": [
       "<IPython.core.display.Markdown object>"
      ]
     },
     "execution_count": 9,
     "metadata": {},
     "output_type": "execute_result"
    }
   ],
   "source": [
    "%%jmd\n",
    "\n",
    "The figure is displayed below:\n",
    "\n",
    "{{ matplotlib_fig_to_html(sns.countplot(x=df[\"col1\"]).figure) }}\n",
    "\n",
    "And we can continue our text further here."
   ]
  },
  {
   "cell_type": "markdown",
   "metadata": {
    "pycharm": {
     "name": "#%% md\n"
    }
   },
   "source": [
    "We can do the same with **Plotly** or other interactive plotting frameworks. Unfortunately, some IDEs do not show the plotly graph, even though it its generated in the final report."
   ]
  },
  {
   "cell_type": "code",
   "execution_count": 10,
   "metadata": {
    "pycharm": {
     "name": "#%%\n"
    }
   },
   "outputs": [],
   "source": [
    "import plotly.express as px\n",
    "\n",
    "fig = px.bar(x=[\"a\", \"b\", \"c\"], y=[1, 3, 2])"
   ]
  },
  {
   "cell_type": "code",
   "execution_count": 11,
   "metadata": {
    "pycharm": {
     "name": "#%%\n"
    }
   },
   "outputs": [
    {
     "data": {
      "text/markdown": [
       "\n",
       "It is simple to use it with Jinja Markdown.\n",
       "\n",
       "<div>                            <div id=\"c47a1c58-deba-4695-ad7a-77755ab94b3a\" class=\"plotly-graph-div\" style=\"height:400px; width:600px;\"></div>            <script type=\"text/javascript\">                                    window.PLOTLYENV=window.PLOTLYENV || {};                                    if (document.getElementById(\"c47a1c58-deba-4695-ad7a-77755ab94b3a\")) {                    Plotly.newPlot(                        \"c47a1c58-deba-4695-ad7a-77755ab94b3a\",                        [{\"alignmentgroup\":\"True\",\"hovertemplate\":\"x=%{x}<br>y=%{y}<extra></extra>\",\"legendgroup\":\"\",\"marker\":{\"color\":\"#636efa\",\"pattern\":{\"shape\":\"\"}},\"name\":\"\",\"offsetgroup\":\"\",\"orientation\":\"v\",\"showlegend\":false,\"textposition\":\"auto\",\"x\":[\"a\",\"b\",\"c\"],\"xaxis\":\"x\",\"y\":[1,3,2],\"yaxis\":\"y\",\"type\":\"bar\"}],                        {\"template\":{\"data\":{\"histogram2dcontour\":[{\"type\":\"histogram2dcontour\",\"colorbar\":{\"outlinewidth\":0,\"ticks\":\"\"},\"colorscale\":[[0.0,\"#0d0887\"],[0.1111111111111111,\"#46039f\"],[0.2222222222222222,\"#7201a8\"],[0.3333333333333333,\"#9c179e\"],[0.4444444444444444,\"#bd3786\"],[0.5555555555555556,\"#d8576b\"],[0.6666666666666666,\"#ed7953\"],[0.7777777777777778,\"#fb9f3a\"],[0.8888888888888888,\"#fdca26\"],[1.0,\"#f0f921\"]]}],\"choropleth\":[{\"type\":\"choropleth\",\"colorbar\":{\"outlinewidth\":0,\"ticks\":\"\"}}],\"histogram2d\":[{\"type\":\"histogram2d\",\"colorbar\":{\"outlinewidth\":0,\"ticks\":\"\"},\"colorscale\":[[0.0,\"#0d0887\"],[0.1111111111111111,\"#46039f\"],[0.2222222222222222,\"#7201a8\"],[0.3333333333333333,\"#9c179e\"],[0.4444444444444444,\"#bd3786\"],[0.5555555555555556,\"#d8576b\"],[0.6666666666666666,\"#ed7953\"],[0.7777777777777778,\"#fb9f3a\"],[0.8888888888888888,\"#fdca26\"],[1.0,\"#f0f921\"]]}],\"heatmap\":[{\"type\":\"heatmap\",\"colorbar\":{\"outlinewidth\":0,\"ticks\":\"\"},\"colorscale\":[[0.0,\"#0d0887\"],[0.1111111111111111,\"#46039f\"],[0.2222222222222222,\"#7201a8\"],[0.3333333333333333,\"#9c179e\"],[0.4444444444444444,\"#bd3786\"],[0.5555555555555556,\"#d8576b\"],[0.6666666666666666,\"#ed7953\"],[0.7777777777777778,\"#fb9f3a\"],[0.8888888888888888,\"#fdca26\"],[1.0,\"#f0f921\"]]}],\"heatmapgl\":[{\"type\":\"heatmapgl\",\"colorbar\":{\"outlinewidth\":0,\"ticks\":\"\"},\"colorscale\":[[0.0,\"#0d0887\"],[0.1111111111111111,\"#46039f\"],[0.2222222222222222,\"#7201a8\"],[0.3333333333333333,\"#9c179e\"],[0.4444444444444444,\"#bd3786\"],[0.5555555555555556,\"#d8576b\"],[0.6666666666666666,\"#ed7953\"],[0.7777777777777778,\"#fb9f3a\"],[0.8888888888888888,\"#fdca26\"],[1.0,\"#f0f921\"]]}],\"contourcarpet\":[{\"type\":\"contourcarpet\",\"colorbar\":{\"outlinewidth\":0,\"ticks\":\"\"}}],\"contour\":[{\"type\":\"contour\",\"colorbar\":{\"outlinewidth\":0,\"ticks\":\"\"},\"colorscale\":[[0.0,\"#0d0887\"],[0.1111111111111111,\"#46039f\"],[0.2222222222222222,\"#7201a8\"],[0.3333333333333333,\"#9c179e\"],[0.4444444444444444,\"#bd3786\"],[0.5555555555555556,\"#d8576b\"],[0.6666666666666666,\"#ed7953\"],[0.7777777777777778,\"#fb9f3a\"],[0.8888888888888888,\"#fdca26\"],[1.0,\"#f0f921\"]]}],\"surface\":[{\"type\":\"surface\",\"colorbar\":{\"outlinewidth\":0,\"ticks\":\"\"},\"colorscale\":[[0.0,\"#0d0887\"],[0.1111111111111111,\"#46039f\"],[0.2222222222222222,\"#7201a8\"],[0.3333333333333333,\"#9c179e\"],[0.4444444444444444,\"#bd3786\"],[0.5555555555555556,\"#d8576b\"],[0.6666666666666666,\"#ed7953\"],[0.7777777777777778,\"#fb9f3a\"],[0.8888888888888888,\"#fdca26\"],[1.0,\"#f0f921\"]]}],\"mesh3d\":[{\"type\":\"mesh3d\",\"colorbar\":{\"outlinewidth\":0,\"ticks\":\"\"}}],\"scatter\":[{\"fillpattern\":{\"fillmode\":\"overlay\",\"size\":10,\"solidity\":0.2},\"type\":\"scatter\"}],\"parcoords\":[{\"type\":\"parcoords\",\"line\":{\"colorbar\":{\"outlinewidth\":0,\"ticks\":\"\"}}}],\"scatterpolargl\":[{\"type\":\"scatterpolargl\",\"marker\":{\"colorbar\":{\"outlinewidth\":0,\"ticks\":\"\"}}}],\"bar\":[{\"error_x\":{\"color\":\"#2a3f5f\"},\"error_y\":{\"color\":\"#2a3f5f\"},\"marker\":{\"line\":{\"color\":\"#E5ECF6\",\"width\":0.5},\"pattern\":{\"fillmode\":\"overlay\",\"size\":10,\"solidity\":0.2}},\"type\":\"bar\"}],\"scattergeo\":[{\"type\":\"scattergeo\",\"marker\":{\"colorbar\":{\"outlinewidth\":0,\"ticks\":\"\"}}}],\"scatterpolar\":[{\"type\":\"scatterpolar\",\"marker\":{\"colorbar\":{\"outlinewidth\":0,\"ticks\":\"\"}}}],\"histogram\":[{\"marker\":{\"pattern\":{\"fillmode\":\"overlay\",\"size\":10,\"solidity\":0.2}},\"type\":\"histogram\"}],\"scattergl\":[{\"type\":\"scattergl\",\"marker\":{\"colorbar\":{\"outlinewidth\":0,\"ticks\":\"\"}}}],\"scatter3d\":[{\"type\":\"scatter3d\",\"line\":{\"colorbar\":{\"outlinewidth\":0,\"ticks\":\"\"}},\"marker\":{\"colorbar\":{\"outlinewidth\":0,\"ticks\":\"\"}}}],\"scattermapbox\":[{\"type\":\"scattermapbox\",\"marker\":{\"colorbar\":{\"outlinewidth\":0,\"ticks\":\"\"}}}],\"scatterternary\":[{\"type\":\"scatterternary\",\"marker\":{\"colorbar\":{\"outlinewidth\":0,\"ticks\":\"\"}}}],\"scattercarpet\":[{\"type\":\"scattercarpet\",\"marker\":{\"colorbar\":{\"outlinewidth\":0,\"ticks\":\"\"}}}],\"carpet\":[{\"aaxis\":{\"endlinecolor\":\"#2a3f5f\",\"gridcolor\":\"white\",\"linecolor\":\"white\",\"minorgridcolor\":\"white\",\"startlinecolor\":\"#2a3f5f\"},\"baxis\":{\"endlinecolor\":\"#2a3f5f\",\"gridcolor\":\"white\",\"linecolor\":\"white\",\"minorgridcolor\":\"white\",\"startlinecolor\":\"#2a3f5f\"},\"type\":\"carpet\"}],\"table\":[{\"cells\":{\"fill\":{\"color\":\"#EBF0F8\"},\"line\":{\"color\":\"white\"}},\"header\":{\"fill\":{\"color\":\"#C8D4E3\"},\"line\":{\"color\":\"white\"}},\"type\":\"table\"}],\"barpolar\":[{\"marker\":{\"line\":{\"color\":\"#E5ECF6\",\"width\":0.5},\"pattern\":{\"fillmode\":\"overlay\",\"size\":10,\"solidity\":0.2}},\"type\":\"barpolar\"}],\"pie\":[{\"automargin\":true,\"type\":\"pie\"}]},\"layout\":{\"autotypenumbers\":\"strict\",\"colorway\":[\"#636efa\",\"#EF553B\",\"#00cc96\",\"#ab63fa\",\"#FFA15A\",\"#19d3f3\",\"#FF6692\",\"#B6E880\",\"#FF97FF\",\"#FECB52\"],\"font\":{\"color\":\"#2a3f5f\"},\"hovermode\":\"closest\",\"hoverlabel\":{\"align\":\"left\"},\"paper_bgcolor\":\"white\",\"plot_bgcolor\":\"#E5ECF6\",\"polar\":{\"bgcolor\":\"#E5ECF6\",\"angularaxis\":{\"gridcolor\":\"white\",\"linecolor\":\"white\",\"ticks\":\"\"},\"radialaxis\":{\"gridcolor\":\"white\",\"linecolor\":\"white\",\"ticks\":\"\"}},\"ternary\":{\"bgcolor\":\"#E5ECF6\",\"aaxis\":{\"gridcolor\":\"white\",\"linecolor\":\"white\",\"ticks\":\"\"},\"baxis\":{\"gridcolor\":\"white\",\"linecolor\":\"white\",\"ticks\":\"\"},\"caxis\":{\"gridcolor\":\"white\",\"linecolor\":\"white\",\"ticks\":\"\"}},\"coloraxis\":{\"colorbar\":{\"outlinewidth\":0,\"ticks\":\"\"}},\"colorscale\":{\"sequential\":[[0.0,\"#0d0887\"],[0.1111111111111111,\"#46039f\"],[0.2222222222222222,\"#7201a8\"],[0.3333333333333333,\"#9c179e\"],[0.4444444444444444,\"#bd3786\"],[0.5555555555555556,\"#d8576b\"],[0.6666666666666666,\"#ed7953\"],[0.7777777777777778,\"#fb9f3a\"],[0.8888888888888888,\"#fdca26\"],[1.0,\"#f0f921\"]],\"sequentialminus\":[[0.0,\"#0d0887\"],[0.1111111111111111,\"#46039f\"],[0.2222222222222222,\"#7201a8\"],[0.3333333333333333,\"#9c179e\"],[0.4444444444444444,\"#bd3786\"],[0.5555555555555556,\"#d8576b\"],[0.6666666666666666,\"#ed7953\"],[0.7777777777777778,\"#fb9f3a\"],[0.8888888888888888,\"#fdca26\"],[1.0,\"#f0f921\"]],\"diverging\":[[0,\"#8e0152\"],[0.1,\"#c51b7d\"],[0.2,\"#de77ae\"],[0.3,\"#f1b6da\"],[0.4,\"#fde0ef\"],[0.5,\"#f7f7f7\"],[0.6,\"#e6f5d0\"],[0.7,\"#b8e186\"],[0.8,\"#7fbc41\"],[0.9,\"#4d9221\"],[1,\"#276419\"]]},\"xaxis\":{\"gridcolor\":\"white\",\"linecolor\":\"white\",\"ticks\":\"\",\"title\":{\"standoff\":15},\"zerolinecolor\":\"white\",\"automargin\":true,\"zerolinewidth\":2},\"yaxis\":{\"gridcolor\":\"white\",\"linecolor\":\"white\",\"ticks\":\"\",\"title\":{\"standoff\":15},\"zerolinecolor\":\"white\",\"automargin\":true,\"zerolinewidth\":2},\"scene\":{\"xaxis\":{\"backgroundcolor\":\"#E5ECF6\",\"gridcolor\":\"white\",\"linecolor\":\"white\",\"showbackground\":true,\"ticks\":\"\",\"zerolinecolor\":\"white\",\"gridwidth\":2},\"yaxis\":{\"backgroundcolor\":\"#E5ECF6\",\"gridcolor\":\"white\",\"linecolor\":\"white\",\"showbackground\":true,\"ticks\":\"\",\"zerolinecolor\":\"white\",\"gridwidth\":2},\"zaxis\":{\"backgroundcolor\":\"#E5ECF6\",\"gridcolor\":\"white\",\"linecolor\":\"white\",\"showbackground\":true,\"ticks\":\"\",\"zerolinecolor\":\"white\",\"gridwidth\":2}},\"shapedefaults\":{\"line\":{\"color\":\"#2a3f5f\"}},\"annotationdefaults\":{\"arrowcolor\":\"#2a3f5f\",\"arrowhead\":0,\"arrowwidth\":1},\"geo\":{\"bgcolor\":\"white\",\"landcolor\":\"#E5ECF6\",\"subunitcolor\":\"white\",\"showland\":true,\"showlakes\":true,\"lakecolor\":\"white\"},\"title\":{\"x\":0.05},\"mapbox\":{\"style\":\"light\"}}},\"xaxis\":{\"anchor\":\"y\",\"domain\":[0.0,1.0],\"title\":{\"text\":\"x\"}},\"yaxis\":{\"anchor\":\"x\",\"domain\":[0.0,1.0],\"title\":{\"text\":\"y\"}},\"legend\":{\"tracegroupgap\":0},\"margin\":{\"t\":60},\"barmode\":\"relative\"},                        {\"responsive\": true}                    )                };                            </script>        </div>"
      ],
      "text/plain": [
       "<IPython.core.display.Markdown object>"
      ]
     },
     "execution_count": 11,
     "metadata": {},
     "output_type": "execute_result"
    }
   ],
   "source": [
    "%%jmd\n",
    "\n",
    "It is simple to use it with Jinja Markdown.\n",
    "\n",
    "{{ fig.to_html(include_plotlyjs=False, full_html=False, default_height=400, default_width=600) }}"
   ]
  },
  {
   "cell_type": "markdown",
   "metadata": {
    "pycharm": {
     "name": "#%% md\n"
    }
   },
   "source": [
    "# Code Folding\n",
    "\n",
    "You might've noticed that there are a lot of `Hide` buttons on the right. This is a functionality called **Code Folding**. It allows us to hide and show code and results in a more dynamic and visually appealing report.\n",
    "\n",
    "This functionality can be tweaked in the notebook-level metadata with attribute `code_folding`. For example:\n",
    "\n",
    "```yaml\n",
    "output:\n",
    "    html:\n",
    "        code_folding: hide\n",
    "```\n",
    "\n",
    "Value `show` means that all code cells inputs will be visible at the document load. If we specify value `hide` in there, then all codes will be hidden at the beginning (this is also default when the property is missing). Any other value will result in the Code Folding functionality being turned off, hence all inputs will be visible.\n",
    "\n",
    "There is also a button on the top with `Code All` that allows us to toggle all codes on or off. This option is turned on by `code_tools: true`."
   ]
  }
 ],
 "metadata": {
  "kernelspec": {
   "display_name": "Python 3 (ipykernel)",
   "language": "python",
   "name": "python3"
  },
  "language_info": {
   "codemirror_mode": {
    "name": "ipython",
    "version": 3
   },
   "file_extension": ".py",
   "mimetype": "text/x-python",
   "name": "python",
   "nbconvert_exporter": "python",
   "pygments_lexer": "ipython3",
   "version": "3.9.13"
  },
  "vscode": {
   "interpreter": {
    "hash": "4001391cff8576e5f8bd84e9f8399980545d172b9d1487fb90005c2dcd29ff5a"
   }
  }
 },
 "nbformat": 4,
 "nbformat_minor": 4
}
