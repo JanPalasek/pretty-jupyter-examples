{
 "cells": [
  {
   "cell_type": "code",
   "execution_count": 1,
   "metadata": {},
   "outputs": [],
   "source": [
    "%load_ext pretty_jupyter"
   ]
  },
  {
   "cell_type": "markdown",
   "metadata": {},
   "source": [
    "# Introduction\n",
    "\n",
    "The point of this notebook is to demonstrate the main features of Pretty Jupyter. This document, however, does not mean to repeat everything described on the wiki, rather than it means to show how to actually use it in practice."
   ]
  },
  {
   "cell_type": "markdown",
   "metadata": {},
   "source": [
    "# Styling\n",
    "\n",
    "As you can notice in the generated HTML document, the styles are quite different than the default. You can tweak them even more by classic `<style>` tag. The following cell does just that and it alters the header of this chapter."
   ]
  },
  {
   "cell_type": "code",
   "execution_count": 2,
   "metadata": {},
   "outputs": [
    {
     "data": {
      "text/html": [
       "\n",
       "<style>\n",
       "    #Styling {\n",
       "        font-weight: bold;\n",
       "        font-family: Helvetica;\n",
       "    }\n",
       "</style>\n"
      ],
      "text/plain": [
       "<IPython.core.display.HTML object>"
      ]
     },
     "metadata": {},
     "output_type": "display_data"
    }
   ],
   "source": [
    "%%html\n",
    "\n",
    "<style>\n",
    "    #Styling {\n",
    "        font-weight: bold;\n",
    "        font-family: Helvetica;\n",
    "    }\n",
    "</style>"
   ]
  },
  {
   "cell_type": "markdown",
   "metadata": {},
   "source": [
    "JavaScript can be applied very similarly."
   ]
  },
  {
   "cell_type": "markdown",
   "metadata": {},
   "source": [
    "# Table of Contents\n",
    "\n",
    "One of the main capabilities is **Table of Contents**. It is automatically generated based on headers specified in Markdown or HTML (Markdown is recommended for safety). It can however be turned off by specifying in the notebook's metadata. We can view the `main-features-demo.ipynb` notebook as json and overwrite the following property to false:\n",
    "\n",
    "```json\n",
    "\"toc\": true\n",
    "```"
   ]
  },
  {
   "cell_type": "markdown",
   "metadata": {},
   "source": [
    "# Tabset\n",
    "\n",
    "Another important functionality is the **Tabset**. It allows us to switch the tabs. It works the following way:\n",
    "\n",
    "1. On the line below some header we write the following: `[//]: <X> (-.- tabset)`. **Remove the `X` between `<` and `>`**, it has been added for technical reasons.\n",
    "2. All sub-headers of this header and their content becomes tabbed content.\n",
    "\n",
    "## Tabset Root\n",
    "[//]: <> (-.- tabset)\n",
    "\n",
    "To demonstrate this, we wrote this magical line under the Tabset Root header. And hence the following subsections will be tabbed.\n",
    "\n",
    "### Subsection 1\n",
    "Content 1.\n",
    "\n",
    "### Subsection 2\n",
    "Content 2 with some math:\n",
    "\n",
    "$$ \\frac{a^2}{a} = a$$\n",
    "\n",
    "### Subsection 3\n",
    "Content 3.\n",
    "\n",
    "<h2 class=\"toc-ignore\"></h2>\n",
    "\n",
    "The tabset is automatically ended by a header of same or higher magnitude. E.g. if tabset is on header `<h2>` (equivalent to `##`), the it can be ended by `<h1>` or `<h2>`.\n",
    "\n",
    "We can use this to our advantage and use an empty header element to just end the tabset such as this:\n",
    "\n",
    "```html\n",
    "<h2 class=\"toc-ignore\"></h2>\n",
    "```\n",
    "\n",
    "(`toc-ignore` class removes is from table of contents)"
   ]
  },
  {
   "cell_type": "markdown",
   "metadata": {},
   "source": [
    "# Markdown with Jinja\n",
    "\n",
    "Another very important feature is so called **Jinja Markdown**. It allows us to combine Markdown with Python variables. It can even be combined with using Maths. It is demonstrated in the cells below:"
   ]
  },
  {
   "cell_type": "code",
   "execution_count": 3,
   "metadata": {},
   "outputs": [],
   "source": [
    "a = 10\n",
    "b = 3"
   ]
  },
  {
   "cell_type": "code",
   "execution_count": 4,
   "metadata": {},
   "outputs": [
    {
     "data": {
      "text/markdown": [
       "\n",
       "$$\n",
       "\n",
       "\\frac{a}{b} = \\frac{ 10 }{ 3 } = 3.33\n",
       "\n",
       "$$"
      ],
      "text/plain": [
       "<IPython.core.display.Markdown object>"
      ]
     },
     "execution_count": 4,
     "metadata": {},
     "output_type": "execute_result"
    }
   ],
   "source": [
    "%%jinja markdown\n",
    "\n",
    "$$\n",
    "\n",
    "\\frac{a}{b} = \\frac{ {{a}} }{ {{b}} } = {{ (a / b) | round(2) }}\n",
    "\n",
    "$$"
   ]
  },
  {
   "cell_type": "markdown",
   "metadata": {},
   "source": [
    "To make a code cell a Jinja Markdown cell, its first line needs to have the following content:\n",
    "\n",
    "```\n",
    "%%jinja markdown\n",
    "```\n",
    "\n",
    "Then you write standard Markdown and when you want to use some variable, you specify e.g. `{{ variable_name }}`."
   ]
  },
  {
   "cell_type": "markdown",
   "metadata": {},
   "source": [
    "This concept is very powerful and can be used to display dynamically created tables or images, too. By default, the input of the Markdown is removed in the HTML document. This can, however, be overidden, see the docs."
   ]
  },
  {
   "cell_type": "code",
   "execution_count": 5,
   "metadata": {},
   "outputs": [
    {
     "data": {
      "text/markdown": [
       "\n",
       "Since Jinja Markdown cells are very common, instead of `%jinja markdown` we can write a shortcut: `%%jmd`."
      ],
      "text/plain": [
       "<IPython.core.display.Markdown object>"
      ]
     },
     "execution_count": 5,
     "metadata": {},
     "output_type": "execute_result"
    }
   ],
   "source": [
    "%%jmd\n",
    "\n",
    "Since Jinja Markdown cells are very common, instead of `%jinja markdown` we can write a shortcut: `%%jmd`."
   ]
  },
  {
   "cell_type": "markdown",
   "metadata": {},
   "source": [
    "## Tables\n",
    "\n",
    "Jinja Markdown is powerful enough to print e.g. Pandas tables as part of the markdown, and even hide them with `<details>` tag."
   ]
  },
  {
   "cell_type": "code",
   "execution_count": 6,
   "metadata": {},
   "outputs": [],
   "source": [
    "import pandas as pd\n",
    "\n",
    "df = pd.DataFrame({\"col1\": [1, 2, 3], \"col2\": [\"One\", \"Two\", \"Three\"]})"
   ]
  },
  {
   "cell_type": "code",
   "execution_count": 7,
   "metadata": {},
   "outputs": [
    {
     "data": {
      "text/markdown": [
       "\n",
       "<details open>\n",
       "<summary>Details can be viewed inside.</summary>\n",
       "\n",
       "<table border=\"1\" class=\"dataframe\">\n",
       "  <thead>\n",
       "    <tr style=\"text-align: right;\">\n",
       "      <th></th>\n",
       "      <th>col1</th>\n",
       "      <th>col2</th>\n",
       "    </tr>\n",
       "  </thead>\n",
       "  <tbody>\n",
       "    <tr>\n",
       "      <th>0</th>\n",
       "      <td>1</td>\n",
       "      <td>One</td>\n",
       "    </tr>\n",
       "    <tr>\n",
       "      <th>1</th>\n",
       "      <td>2</td>\n",
       "      <td>Two</td>\n",
       "    </tr>\n",
       "    <tr>\n",
       "      <th>2</th>\n",
       "      <td>3</td>\n",
       "      <td>Three</td>\n",
       "    </tr>\n",
       "  </tbody>\n",
       "</table>\n",
       "\n",
       "</details>"
      ],
      "text/plain": [
       "<IPython.core.display.Markdown object>"
      ]
     },
     "execution_count": 7,
     "metadata": {},
     "output_type": "execute_result"
    }
   ],
   "source": [
    "%%jmd\n",
    "\n",
    "<details open>\n",
    "<summary>Details can be viewed inside.</summary>\n",
    "\n",
    "{{ df.to_html() }}\n",
    "\n",
    "</details>"
   ]
  },
  {
   "cell_type": "markdown",
   "metadata": {},
   "source": [
    "## Plots\n",
    "\n",
    "Even plots can be displayed as part of the Jinja Markdown. However, in order to do that, we need to create the image element manually, which is a bit tedious, however a useful helper function can be made."
   ]
  },
  {
   "cell_type": "code",
   "execution_count": 8,
   "metadata": {},
   "outputs": [],
   "source": [
    "import matplotlib.pyplot as plt\n",
    "import seaborn as sns\n",
    "sns.set_theme()\n",
    "\n",
    "import base64\n",
    "from io import BytesIO\n",
    "\n",
    "IMG_FORMAT = r\"<img src='data:image/png;base64,{encoded}' />\"\n",
    "\n",
    "tmpfile = BytesIO()\n",
    "\n",
    "fig, ax = plt.subplots()\n",
    "sns.countplot(x=df[\"col1\"], ax=ax).set(title=\"Example Figure\")\n",
    "fig.savefig(tmpfile, format=\"png\")\n",
    "plt.close()\n",
    "\n",
    "encoded = IMG_FORMAT.format(encoded=base64.b64encode(tmpfile.getvalue()).decode('utf-8'))"
   ]
  },
  {
   "cell_type": "code",
   "execution_count": 9,
   "metadata": {},
   "outputs": [
    {
     "data": {
      "text/markdown": [
       "\n",
       "The figure is displayed below:\n",
       "\n",
       "<img src='data:image/png;base64,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' />\n",
       "\n",
       "And we can continue our text further here."
      ],
      "text/plain": [
       "<IPython.core.display.Markdown object>"
      ]
     },
     "execution_count": 9,
     "metadata": {},
     "output_type": "execute_result"
    }
   ],
   "source": [
    "%%jmd\n",
    "\n",
    "The figure is displayed below:\n",
    "\n",
    "{{ encoded }}\n",
    "\n",
    "And we can continue our text further here."
   ]
  },
  {
   "cell_type": "markdown",
   "metadata": {},
   "source": [
    "We can do the same with **Plotly** or other interactive plotting frameworks."
   ]
  },
  {
   "cell_type": "code",
   "execution_count": 10,
   "metadata": {},
   "outputs": [],
   "source": [
    "import plotly.express as px\n",
    "\n",
    "fig = px.bar(x=[\"a\", \"b\", \"c\"], y=[1, 3, 2])"
   ]
  },
  {
   "cell_type": "code",
   "execution_count": 11,
   "metadata": {},
   "outputs": [
    {
     "data": {
      "text/markdown": [
       "\n",
       "It is simple to use it with Jinja Markdown.\n",
       "\n",
       "<div>                            <div id=\"730dbbdc-b149-4774-9fbf-0d31745fbbc5\" class=\"plotly-graph-div\" style=\"height:400px; width:600px;\"></div>            <script type=\"text/javascript\">                                    window.PLOTLYENV=window.PLOTLYENV || {};                                    if (document.getElementById(\"730dbbdc-b149-4774-9fbf-0d31745fbbc5\")) {                    Plotly.newPlot(                        \"730dbbdc-b149-4774-9fbf-0d31745fbbc5\",                        [{\"alignmentgroup\":\"True\",\"hovertemplate\":\"x=%{x}<br>y=%{y}<extra></extra>\",\"legendgroup\":\"\",\"marker\":{\"color\":\"#636efa\",\"pattern\":{\"shape\":\"\"}},\"name\":\"\",\"offsetgroup\":\"\",\"orientation\":\"v\",\"showlegend\":false,\"textposition\":\"auto\",\"x\":[\"a\",\"b\",\"c\"],\"xaxis\":\"x\",\"y\":[1,3,2],\"yaxis\":\"y\",\"type\":\"bar\"}],                        {\"template\":{\"data\":{\"histogram2dcontour\":[{\"type\":\"histogram2dcontour\",\"colorbar\":{\"outlinewidth\":0,\"ticks\":\"\"},\"colorscale\":[[0.0,\"#0d0887\"],[0.1111111111111111,\"#46039f\"],[0.2222222222222222,\"#7201a8\"],[0.3333333333333333,\"#9c179e\"],[0.4444444444444444,\"#bd3786\"],[0.5555555555555556,\"#d8576b\"],[0.6666666666666666,\"#ed7953\"],[0.7777777777777778,\"#fb9f3a\"],[0.8888888888888888,\"#fdca26\"],[1.0,\"#f0f921\"]]}],\"choropleth\":[{\"type\":\"choropleth\",\"colorbar\":{\"outlinewidth\":0,\"ticks\":\"\"}}],\"histogram2d\":[{\"type\":\"histogram2d\",\"colorbar\":{\"outlinewidth\":0,\"ticks\":\"\"},\"colorscale\":[[0.0,\"#0d0887\"],[0.1111111111111111,\"#46039f\"],[0.2222222222222222,\"#7201a8\"],[0.3333333333333333,\"#9c179e\"],[0.4444444444444444,\"#bd3786\"],[0.5555555555555556,\"#d8576b\"],[0.6666666666666666,\"#ed7953\"],[0.7777777777777778,\"#fb9f3a\"],[0.8888888888888888,\"#fdca26\"],[1.0,\"#f0f921\"]]}],\"heatmap\":[{\"type\":\"heatmap\",\"colorbar\":{\"outlinewidth\":0,\"ticks\":\"\"},\"colorscale\":[[0.0,\"#0d0887\"],[0.1111111111111111,\"#46039f\"],[0.2222222222222222,\"#7201a8\"],[0.3333333333333333,\"#9c179e\"],[0.4444444444444444,\"#bd3786\"],[0.5555555555555556,\"#d8576b\"],[0.6666666666666666,\"#ed7953\"],[0.7777777777777778,\"#fb9f3a\"],[0.8888888888888888,\"#fdca26\"],[1.0,\"#f0f921\"]]}],\"heatmapgl\":[{\"type\":\"heatmapgl\",\"colorbar\":{\"outlinewidth\":0,\"ticks\":\"\"},\"colorscale\":[[0.0,\"#0d0887\"],[0.1111111111111111,\"#46039f\"],[0.2222222222222222,\"#7201a8\"],[0.3333333333333333,\"#9c179e\"],[0.4444444444444444,\"#bd3786\"],[0.5555555555555556,\"#d8576b\"],[0.6666666666666666,\"#ed7953\"],[0.7777777777777778,\"#fb9f3a\"],[0.8888888888888888,\"#fdca26\"],[1.0,\"#f0f921\"]]}],\"contourcarpet\":[{\"type\":\"contourcarpet\",\"colorbar\":{\"outlinewidth\":0,\"ticks\":\"\"}}],\"contour\":[{\"type\":\"contour\",\"colorbar\":{\"outlinewidth\":0,\"ticks\":\"\"},\"colorscale\":[[0.0,\"#0d0887\"],[0.1111111111111111,\"#46039f\"],[0.2222222222222222,\"#7201a8\"],[0.3333333333333333,\"#9c179e\"],[0.4444444444444444,\"#bd3786\"],[0.5555555555555556,\"#d8576b\"],[0.6666666666666666,\"#ed7953\"],[0.7777777777777778,\"#fb9f3a\"],[0.8888888888888888,\"#fdca26\"],[1.0,\"#f0f921\"]]}],\"surface\":[{\"type\":\"surface\",\"colorbar\":{\"outlinewidth\":0,\"ticks\":\"\"},\"colorscale\":[[0.0,\"#0d0887\"],[0.1111111111111111,\"#46039f\"],[0.2222222222222222,\"#7201a8\"],[0.3333333333333333,\"#9c179e\"],[0.4444444444444444,\"#bd3786\"],[0.5555555555555556,\"#d8576b\"],[0.6666666666666666,\"#ed7953\"],[0.7777777777777778,\"#fb9f3a\"],[0.8888888888888888,\"#fdca26\"],[1.0,\"#f0f921\"]]}],\"mesh3d\":[{\"type\":\"mesh3d\",\"colorbar\":{\"outlinewidth\":0,\"ticks\":\"\"}}],\"scatter\":[{\"fillpattern\":{\"fillmode\":\"overlay\",\"size\":10,\"solidity\":0.2},\"type\":\"scatter\"}],\"parcoords\":[{\"type\":\"parcoords\",\"line\":{\"colorbar\":{\"outlinewidth\":0,\"ticks\":\"\"}}}],\"scatterpolargl\":[{\"type\":\"scatterpolargl\",\"marker\":{\"colorbar\":{\"outlinewidth\":0,\"ticks\":\"\"}}}],\"bar\":[{\"error_x\":{\"color\":\"#2a3f5f\"},\"error_y\":{\"color\":\"#2a3f5f\"},\"marker\":{\"line\":{\"color\":\"#E5ECF6\",\"width\":0.5},\"pattern\":{\"fillmode\":\"overlay\",\"size\":10,\"solidity\":0.2}},\"type\":\"bar\"}],\"scattergeo\":[{\"type\":\"scattergeo\",\"marker\":{\"colorbar\":{\"outlinewidth\":0,\"ticks\":\"\"}}}],\"scatterpolar\":[{\"type\":\"scatterpolar\",\"marker\":{\"colorbar\":{\"outlinewidth\":0,\"ticks\":\"\"}}}],\"histogram\":[{\"marker\":{\"pattern\":{\"fillmode\":\"overlay\",\"size\":10,\"solidity\":0.2}},\"type\":\"histogram\"}],\"scattergl\":[{\"type\":\"scattergl\",\"marker\":{\"colorbar\":{\"outlinewidth\":0,\"ticks\":\"\"}}}],\"scatter3d\":[{\"type\":\"scatter3d\",\"line\":{\"colorbar\":{\"outlinewidth\":0,\"ticks\":\"\"}},\"marker\":{\"colorbar\":{\"outlinewidth\":0,\"ticks\":\"\"}}}],\"scattermapbox\":[{\"type\":\"scattermapbox\",\"marker\":{\"colorbar\":{\"outlinewidth\":0,\"ticks\":\"\"}}}],\"scatterternary\":[{\"type\":\"scatterternary\",\"marker\":{\"colorbar\":{\"outlinewidth\":0,\"ticks\":\"\"}}}],\"scattercarpet\":[{\"type\":\"scattercarpet\",\"marker\":{\"colorbar\":{\"outlinewidth\":0,\"ticks\":\"\"}}}],\"carpet\":[{\"aaxis\":{\"endlinecolor\":\"#2a3f5f\",\"gridcolor\":\"white\",\"linecolor\":\"white\",\"minorgridcolor\":\"white\",\"startlinecolor\":\"#2a3f5f\"},\"baxis\":{\"endlinecolor\":\"#2a3f5f\",\"gridcolor\":\"white\",\"linecolor\":\"white\",\"minorgridcolor\":\"white\",\"startlinecolor\":\"#2a3f5f\"},\"type\":\"carpet\"}],\"table\":[{\"cells\":{\"fill\":{\"color\":\"#EBF0F8\"},\"line\":{\"color\":\"white\"}},\"header\":{\"fill\":{\"color\":\"#C8D4E3\"},\"line\":{\"color\":\"white\"}},\"type\":\"table\"}],\"barpolar\":[{\"marker\":{\"line\":{\"color\":\"#E5ECF6\",\"width\":0.5},\"pattern\":{\"fillmode\":\"overlay\",\"size\":10,\"solidity\":0.2}},\"type\":\"barpolar\"}],\"pie\":[{\"automargin\":true,\"type\":\"pie\"}]},\"layout\":{\"autotypenumbers\":\"strict\",\"colorway\":[\"#636efa\",\"#EF553B\",\"#00cc96\",\"#ab63fa\",\"#FFA15A\",\"#19d3f3\",\"#FF6692\",\"#B6E880\",\"#FF97FF\",\"#FECB52\"],\"font\":{\"color\":\"#2a3f5f\"},\"hovermode\":\"closest\",\"hoverlabel\":{\"align\":\"left\"},\"paper_bgcolor\":\"white\",\"plot_bgcolor\":\"#E5ECF6\",\"polar\":{\"bgcolor\":\"#E5ECF6\",\"angularaxis\":{\"gridcolor\":\"white\",\"linecolor\":\"white\",\"ticks\":\"\"},\"radialaxis\":{\"gridcolor\":\"white\",\"linecolor\":\"white\",\"ticks\":\"\"}},\"ternary\":{\"bgcolor\":\"#E5ECF6\",\"aaxis\":{\"gridcolor\":\"white\",\"linecolor\":\"white\",\"ticks\":\"\"},\"baxis\":{\"gridcolor\":\"white\",\"linecolor\":\"white\",\"ticks\":\"\"},\"caxis\":{\"gridcolor\":\"white\",\"linecolor\":\"white\",\"ticks\":\"\"}},\"coloraxis\":{\"colorbar\":{\"outlinewidth\":0,\"ticks\":\"\"}},\"colorscale\":{\"sequential\":[[0.0,\"#0d0887\"],[0.1111111111111111,\"#46039f\"],[0.2222222222222222,\"#7201a8\"],[0.3333333333333333,\"#9c179e\"],[0.4444444444444444,\"#bd3786\"],[0.5555555555555556,\"#d8576b\"],[0.6666666666666666,\"#ed7953\"],[0.7777777777777778,\"#fb9f3a\"],[0.8888888888888888,\"#fdca26\"],[1.0,\"#f0f921\"]],\"sequentialminus\":[[0.0,\"#0d0887\"],[0.1111111111111111,\"#46039f\"],[0.2222222222222222,\"#7201a8\"],[0.3333333333333333,\"#9c179e\"],[0.4444444444444444,\"#bd3786\"],[0.5555555555555556,\"#d8576b\"],[0.6666666666666666,\"#ed7953\"],[0.7777777777777778,\"#fb9f3a\"],[0.8888888888888888,\"#fdca26\"],[1.0,\"#f0f921\"]],\"diverging\":[[0,\"#8e0152\"],[0.1,\"#c51b7d\"],[0.2,\"#de77ae\"],[0.3,\"#f1b6da\"],[0.4,\"#fde0ef\"],[0.5,\"#f7f7f7\"],[0.6,\"#e6f5d0\"],[0.7,\"#b8e186\"],[0.8,\"#7fbc41\"],[0.9,\"#4d9221\"],[1,\"#276419\"]]},\"xaxis\":{\"gridcolor\":\"white\",\"linecolor\":\"white\",\"ticks\":\"\",\"title\":{\"standoff\":15},\"zerolinecolor\":\"white\",\"automargin\":true,\"zerolinewidth\":2},\"yaxis\":{\"gridcolor\":\"white\",\"linecolor\":\"white\",\"ticks\":\"\",\"title\":{\"standoff\":15},\"zerolinecolor\":\"white\",\"automargin\":true,\"zerolinewidth\":2},\"scene\":{\"xaxis\":{\"backgroundcolor\":\"#E5ECF6\",\"gridcolor\":\"white\",\"linecolor\":\"white\",\"showbackground\":true,\"ticks\":\"\",\"zerolinecolor\":\"white\",\"gridwidth\":2},\"yaxis\":{\"backgroundcolor\":\"#E5ECF6\",\"gridcolor\":\"white\",\"linecolor\":\"white\",\"showbackground\":true,\"ticks\":\"\",\"zerolinecolor\":\"white\",\"gridwidth\":2},\"zaxis\":{\"backgroundcolor\":\"#E5ECF6\",\"gridcolor\":\"white\",\"linecolor\":\"white\",\"showbackground\":true,\"ticks\":\"\",\"zerolinecolor\":\"white\",\"gridwidth\":2}},\"shapedefaults\":{\"line\":{\"color\":\"#2a3f5f\"}},\"annotationdefaults\":{\"arrowcolor\":\"#2a3f5f\",\"arrowhead\":0,\"arrowwidth\":1},\"geo\":{\"bgcolor\":\"white\",\"landcolor\":\"#E5ECF6\",\"subunitcolor\":\"white\",\"showland\":true,\"showlakes\":true,\"lakecolor\":\"white\"},\"title\":{\"x\":0.05},\"mapbox\":{\"style\":\"light\"}}},\"xaxis\":{\"anchor\":\"y\",\"domain\":[0.0,1.0],\"title\":{\"text\":\"x\"}},\"yaxis\":{\"anchor\":\"x\",\"domain\":[0.0,1.0],\"title\":{\"text\":\"y\"}},\"legend\":{\"tracegroupgap\":0},\"margin\":{\"t\":60},\"barmode\":\"relative\"},                        {\"responsive\": true}                    )                };                            </script>        </div>"
      ],
      "text/plain": [
       "<IPython.core.display.Markdown object>"
      ]
     },
     "execution_count": 11,
     "metadata": {},
     "output_type": "execute_result"
    }
   ],
   "source": [
    "%%jmd\n",
    "\n",
    "It is simple to use it with Jinja Markdown.\n",
    "\n",
    "{{ fig.to_html(include_plotlyjs=False, full_html=False, default_height=400, default_width=600) }}"
   ]
  },
  {
   "cell_type": "markdown",
   "metadata": {},
   "source": [
    "# Code Folding\n",
    "\n",
    "You might've noticed that there are a lot of `Hide` buttons on the right. This is a functionality called **Code Folding**. It allows us to hide and show code and results in a more dynamic and visually appealing report. There is also a button on the top with `Code All` that allows us to toggle all codes on or off.\n",
    "\n",
    "This functionality can be tweaked in the notebook's metadata. There is the following property in this notebook's json (open it as text):\n",
    "\n",
    "```json\n",
    "\"code_folding\": \"show\"\n",
    "```\n",
    "\n",
    "Value `show` means that all code cells inputs will be visible at the document load. If we specify value `hide` in there, then all codes will be hidden at the beginning (this is also default when the property is missing). Any other value will result in the Code Folding functionality being turned off, hence all inputs will be visible."
   ]
  },
  {
   "cell_type": "code",
   "execution_count": 12,
   "metadata": {},
   "outputs": [],
   "source": [
    "a = 10"
   ]
  },
  {
   "cell_type": "markdown",
   "metadata": {},
   "source": [
    "# Recommendations and Best Practices\n",
    "\n",
    "**Use Jinja Markdown instead of basic Markdown cell**\n",
    "\n",
    "You can hide the input using some kind of extension, so it will not bother you. And the added flexibility is very useful. And the shortcut magic `%%jmd` makes it very efficient.\n",
    "\n",
    "**Be very careful about HTML tags**\n",
    "\n",
    "HTML tags are very powerful way and can be used in combination with Markdown. However, if there is a Markdown equivalent, it should be favoured. If you make an error in the HTML tags in the wrong place (e.g. you forget to close `<em>` tag), it can have devastating effects on the output, since it messes up the DOM structure a lot.\n",
    "\n",
    "**Use headers in order**\n",
    "\n",
    "Do not use for example first `#`, then `###` and then `##`.Use them in a proper order. It's tempting to use lower header to have smaller letters, but the right way to do it is by styling the header element. Some bad orders can have a negative effect on the quality of the output."
   ]
  }
 ],
 "metadata": {
  "code_folding": "show",
  "kernelspec": {
   "display_name": "Python 3 (ipykernel)",
   "language": "python",
   "name": "python3"
  },
  "language_info": {
   "codemirror_mode": {
    "name": "ipython",
    "version": 3
   },
   "file_extension": ".py",
   "mimetype": "text/x-python",
   "name": "python",
   "nbconvert_exporter": "python",
   "pygments_lexer": "ipython3",
   "version": "3.9.13"
  },
  "title": "Main Features Demo",
  "toc": true,
  "vscode": {
   "interpreter": {
    "hash": "4001391cff8576e5f8bd84e9f8399980545d172b9d1487fb90005c2dcd29ff5a"
   }
  }
 },
 "nbformat": 4,
 "nbformat_minor": 4
}
