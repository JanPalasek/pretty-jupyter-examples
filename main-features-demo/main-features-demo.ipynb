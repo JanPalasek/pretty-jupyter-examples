{
 "cells": [
  {
   "cell_type": "code",
   "execution_count": 3,
   "metadata": {},
   "outputs": [],
   "source": [
    "%load_ext pretty_jupyter"
   ]
  },
  {
   "cell_type": "markdown",
   "metadata": {},
   "source": [
    "# Introduction\n",
    "\n",
    "The point of this notebook is to demonstrate the main features of Pretty Jupyter. This document, however, does not mean to repeat everything described on the wiki, rather than it means to show how to actually use it in practice."
   ]
  },
  {
   "cell_type": "markdown",
   "metadata": {},
   "source": [
    "<h2 id=\"styling\">Styling</h2>\n",
    "\n",
    "As you can notice in the generated HTML document, the styles are quite different than the default. You can tweak them even more by classic `<style>` tag. The following cell does just that and it alters the header of this chapter."
   ]
  },
  {
   "cell_type": "code",
   "execution_count": 28,
   "metadata": {},
   "outputs": [
    {
     "data": {
      "text/html": [
       "\n",
       "<style>\n",
       "    #styling {\n",
       "        font-weight: bold;\n",
       "        font-family: Helvetica;\n",
       "    }\n",
       "</style>\n"
      ],
      "text/plain": [
       "<IPython.core.display.HTML object>"
      ]
     },
     "metadata": {},
     "output_type": "display_data"
    }
   ],
   "source": [
    "%%html\n",
    "\n",
    "<style>\n",
    "    #styling {\n",
    "        font-weight: bold;\n",
    "        font-family: Helvetica;\n",
    "    }\n",
    "</style>"
   ]
  },
  {
   "cell_type": "markdown",
   "metadata": {},
   "source": [
    "JavaScript can be applied very similarly."
   ]
  },
  {
   "cell_type": "markdown",
   "metadata": {},
   "source": [
    "# Table of Contents\n",
    "\n",
    "One of the main capabilities is **Table of Contents**. It is automatically generated based on headers specified in Markdown or HTML (Markdown is recommended for safety). It can however be turned off by specifying in the notebook's metadata. We can view the `main-features-demo.ipynb` notebook as json and overwrite the following property to false:\n",
    "\n",
    "```json\n",
    "\"toc\": true\n",
    "```"
   ]
  },
  {
   "cell_type": "markdown",
   "metadata": {},
   "source": [
    "# Tabset\n",
    "[//]: <> (-.- tabset)\n",
    "\n",
    "Another important functionality is the **Tabset**. It allows us to switch the tabs. It works the following way:\n",
    "\n",
    "1. On the line below some header we write the following: `[//]: <X> (-.- tabset)`. **Remove the `X` between `<` and `>`**, it has been added for technical reasons.\n",
    "2. All sub-headers of this header and their content becomes tabbed content.\n",
    "\n",
    "To demonstrate this, we wrote this magical line under the Tabset header. And hence the following subsections will be tabbed.\n",
    "\n",
    "## Subsection 1\n",
    "Content 1.\n",
    "\n",
    "## Subsection 2\n",
    "Content 2.\n",
    "\n",
    "## Subsection 3\n",
    "Content 3."
   ]
  },
  {
   "cell_type": "markdown",
   "metadata": {},
   "source": [
    "# Markdown with Jinja\n",
    "\n",
    "Another very important feature is so called **Jinja Markdown**. It allows us to combine Markdown with Python variables. It can even be combined with using Maths. It is demonstrated in the cells below:"
   ]
  },
  {
   "cell_type": "code",
   "execution_count": 12,
   "metadata": {},
   "outputs": [],
   "source": [
    "a = 10\n",
    "b = 3"
   ]
  },
  {
   "cell_type": "code",
   "execution_count": 16,
   "metadata": {},
   "outputs": [
    {
     "data": {
      "text/markdown": [
       "\n",
       "$$\n",
       "\n",
       "\\frac{a}{b} = \\frac{ 10 }{ 3 } = 3.33\n",
       "\n",
       "$$"
      ],
      "text/plain": [
       "<IPython.core.display.Markdown object>"
      ]
     },
     "execution_count": 16,
     "metadata": {},
     "output_type": "execute_result"
    }
   ],
   "source": [
    "%%jinja markdown\n",
    "\n",
    "$$\n",
    "\n",
    "\\frac{a}{b} = \\frac{ {{a}} }{ {{b}} } = {{ (a / b) | round(2) }}\n",
    "\n",
    "$$"
   ]
  },
  {
   "cell_type": "markdown",
   "metadata": {},
   "source": [
    "To make a code cell a Jinja Markdown cell, its first line needs to have the following content:\n",
    "\n",
    "```\n",
    "%%jinja markdown\n",
    "```\n",
    "\n",
    "Then you write standard Markdown and when you want to use some variable, you specify e.g. `{{ variable_name }}`."
   ]
  },
  {
   "cell_type": "markdown",
   "metadata": {},
   "source": [
    "This concept is very powerful and can be used to display dynamically created tables or images, too. By default, the input of the Markdown is removed in the HTML document. This can, however, be overidden, see the docs."
   ]
  },
  {
   "cell_type": "markdown",
   "metadata": {},
   "source": [
    "# Code Folding\n",
    "\n",
    "You might've noticed that there are a lot of `Hide` buttons on the right. This is a functionality called **Code Folding**. It allows us to hide and show code and results in a more dynamic and visually appealing report. There is also a button on the top with `Code All` that allows us to toggle all codes on or off.\n",
    "\n",
    "This functionality can be tweaked in the notebook's metadata. There is the following property in this notebook's json (open it as text):\n",
    "\n",
    "```json\n",
    "\"code_folding\": \"show\"\n",
    "```\n",
    "\n",
    "Value `show` means that all code cells inputs will be visible at the document load. If we specify value `hide` in there, then all codes will be hidden at the beginning (this is also default when the property is missing). Any other value will result in the Code Folding functionality being turned off, hence all inputs will be visible."
   ]
  },
  {
   "cell_type": "code",
   "execution_count": 1,
   "metadata": {},
   "outputs": [],
   "source": [
    "a = 10"
   ]
  }
 ],
 "metadata": {
  "code_folding": "show",
  "kernelspec": {
   "display_name": "Python 3.9.13 64-bit (windows store)",
   "language": "python",
   "name": "python3"
  },
  "language_info": {
   "codemirror_mode": {
    "name": "ipython",
    "version": 3
   },
   "file_extension": ".py",
   "mimetype": "text/x-python",
   "name": "python",
   "nbconvert_exporter": "python",
   "pygments_lexer": "ipython3",
   "version": "3.9.13"
  },
  "orig_nbformat": 4,
  "title": "Main Features Demo",
  "toc": true,
  "vscode": {
   "interpreter": {
    "hash": "0d88bef2653eaef6020a4028ae66ca269438ebe73b140c29e9dd1ec5a1f1cd70"
   }
  }
 },
 "nbformat": 4,
 "nbformat_minor": 2
}
