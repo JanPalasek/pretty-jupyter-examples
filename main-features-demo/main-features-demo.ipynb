{
 "cells": [
  {
   "cell_type": "raw",
   "metadata": {
    "collapsed": false,
    "pycharm": {
     "name": "#%% raw\n"
    }
   },
   "source": [
    "title: Main Features Demo\n",
    "date: \"Generated: {{ datetime.now().strftime('%Y-%m-%d') }}\"\n",
    "output:\n",
    "    general:\n",
    "        input_jinja: true\n",
    "    html:\n",
    "        code_folding: show\n",
    "        code_tools: true"
   ]
  },
  {
   "cell_type": "code",
   "execution_count": 1,
   "metadata": {
    "pycharm": {
     "name": "#%%\n"
    }
   },
   "outputs": [],
   "source": [
    "%load_ext pretty_jupyter"
   ]
  },
  {
   "cell_type": "markdown",
   "metadata": {
    "pycharm": {
     "name": "#%% md\n"
    }
   },
   "source": [
    "# Introduction\n",
    "\n",
    "The point of this notebook is to demonstrate the main features of Pretty Jupyter. This document, however, does not mean to repeat everything described on the wiki, rather than it means to show how to actually use it in practice."
   ]
  },
  {
   "cell_type": "markdown",
   "metadata": {
    "pycharm": {
     "name": "#%% md\n"
    }
   },
   "source": [
    "# Styling\n",
    "\n",
    "As you can notice in the generated HTML document, the styles are quite different than the default. You can tweak them even more by classic `<style>` tag. The following cell does just that and it alters the header of this chapter."
   ]
  },
  {
   "cell_type": "code",
   "execution_count": 2,
   "metadata": {
    "pj_metadata": {
     "output": false
    },
    "pycharm": {
     "name": "#%%\n"
    }
   },
   "outputs": [
    {
     "data": {
      "text/html": [
       "\n",
       "<style>\n",
       "    #Styling {\n",
       "        font-weight: bold;\n",
       "        font-family: Helvetica;\n",
       "    }\n",
       "</style>\n"
      ],
      "text/plain": [
       "<IPython.core.display.HTML object>"
      ]
     },
     "metadata": {},
     "output_type": "display_data"
    }
   ],
   "source": [
    "%%html\n",
    "\n",
    "<style>\n",
    "    #Styling {\n",
    "        font-weight: bold;\n",
    "        font-family: Helvetica;\n",
    "    }\n",
    "</style>"
   ]
  },
  {
   "cell_type": "markdown",
   "metadata": {
    "pj_metadata": {
     "input": true
    },
    "pycharm": {
     "name": "#%% md\n"
    }
   },
   "source": [
    "JavaScript can be applied very similarly."
   ]
  },
  {
   "cell_type": "markdown",
   "metadata": {
    "pycharm": {
     "name": "#%% md\n"
    }
   },
   "source": [
    "# Table of Contents\n",
    "\n",
    "One of the main capabilities is **Table of Contents**. It is automatically generated based on headers specified in Markdown or HTML (Markdown is recommended for safety). It can however be turned off by specifying in the notebook's metadata. We can view the `main-features-demo.ipynb` notebook as json and overwrite the following property to false:\n",
    "\n",
    "```json\n",
    "\"toc\": true\n",
    "```"
   ]
  },
  {
   "cell_type": "markdown",
   "metadata": {
    "pycharm": {
     "name": "#%% md\n"
    }
   },
   "source": [
    "# Tabset\n",
    "\n",
    "Another important functionality is the **Tabset**. It allows us to switch the tabs. It works the following way:\n",
    "\n",
    "1. On the line below some header we write the following: `[//]: <X> (-.- tabset)`. **Remove the `X` between `<` and `>`**, it has been added for technical reasons.\n",
    "2. All sub-headers of this header and their content becomes tabbed content.\n",
    "\n",
    "## Tabset Root\n",
    "[//]: <> (-.- tabset)\n",
    "\n",
    "To demonstrate this, we wrote this magical line under the Tabset Root header. And hence the following subsections will be tabbed.\n",
    "\n",
    "### Subsection 1\n",
    "Content 1.\n",
    "\n",
    "### Subsection 2\n",
    "Content 2 with some math:\n",
    "\n",
    "$$ \\frac{a^2}{a} = a$$\n",
    "\n",
    "### Subsection 3\n",
    "Content 3.\n",
    "\n",
    "## \n",
    "[//]: <> (-.- .unlisted .unnumbered)\n",
    "\n",
    "The tabset is automatically ended by a header of same or higher magnitude. E.g. if tabset is on header `##`, the it can be ended by `#` or `##`.\n",
    "\n",
    "We can use this to our advantage and use an empty header element to just end the tabset such as this:\n",
    "\n",
    "```markdown\n",
    "## \n",
    "[//]: <X> (-.- .unlisted .unnumbered)\n",
    "```\n",
    "\n",
    "(**again without X between < and >, it was added only for technical reasons**, `.unlisted` and `.unnumbered` classes removes is from table of contents, if they're used together)"
   ]
  },
  {
   "cell_type": "markdown",
   "metadata": {
    "pj_metadata": {
     "input": true
    },
    "pycharm": {
     "name": "#%% md\n"
    }
   },
   "source": [
    "# Markdown with Jinja\n",
    "\n",
    "Another very important feature is so called **Jinja Markdown**. It allows us to combine Markdown with Python variables. It can even be combined with using Maths. It is demonstrated in the cells below:"
   ]
  },
  {
   "cell_type": "code",
   "execution_count": 3,
   "metadata": {
    "pycharm": {
     "name": "#%%\n"
    }
   },
   "outputs": [],
   "source": [
    "a = 10\n",
    "b = 3"
   ]
  },
  {
   "cell_type": "code",
   "execution_count": 4,
   "metadata": {
    "pj_metadata": {
     "input": true
    },
    "pycharm": {
     "name": "#%%\n"
    }
   },
   "outputs": [
    {
     "data": {
      "text/markdown": [
       "\n",
       "$$\n",
       "\\frac{a}{b} = \\frac{ 10 }{ 3 } = 3.33\n",
       "$$"
      ],
      "text/plain": [
       "<IPython.core.display.Markdown object>"
      ]
     },
     "execution_count": 4,
     "metadata": {},
     "output_type": "execute_result"
    }
   ],
   "source": [
    "%%jmd\n",
    "\n",
    "$$\n",
    "\\frac{a}{b} = \\frac{ {{a}} }{ {{b}} } = {{ (a / b) | round(2) }}\n",
    "$$"
   ]
  },
  {
   "cell_type": "markdown",
   "metadata": {
    "pycharm": {
     "name": "#%% md\n"
    }
   },
   "source": [
    "To make a code cell a Jinja Markdown cell, its first line needs to have the following content:\n",
    "\n",
    "```\n",
    "%%jinja markdown\n",
    "```\n",
    "\n",
    "Then you write standard Markdown and when you want to use some variable, you specify e.g. `{{ variable_name }}`."
   ]
  },
  {
   "cell_type": "markdown",
   "metadata": {
    "pycharm": {
     "name": "#%% md\n"
    }
   },
   "source": [
    "This concept is very powerful and can be used to display dynamically created tables or images, too. By default, the input of the Markdown is removed in the HTML document. This can, however, be overidden, see the docs."
   ]
  },
  {
   "cell_type": "code",
   "execution_count": 5,
   "metadata": {
    "pycharm": {
     "name": "#%%\n"
    }
   },
   "outputs": [
    {
     "data": {
      "text/markdown": [
       "\n",
       "Since Jinja Markdown cells are very common, instead of `%jinja markdown` we can write a shortcut: `%%jmd`."
      ],
      "text/plain": [
       "<IPython.core.display.Markdown object>"
      ]
     },
     "execution_count": 5,
     "metadata": {},
     "output_type": "execute_result"
    }
   ],
   "source": [
    "%%jmd\n",
    "\n",
    "Since Jinja Markdown cells are very common, instead of `%jinja markdown` we can write a shortcut: `%%jmd`."
   ]
  },
  {
   "cell_type": "markdown",
   "metadata": {
    "pycharm": {
     "name": "#%% md\n"
    }
   },
   "source": [
    "## Tables\n",
    "\n",
    "Jinja Markdown is powerful enough to print e.g. Pandas tables as part of the markdown, and even hide them with `<details>` tag."
   ]
  },
  {
   "cell_type": "code",
   "execution_count": 6,
   "metadata": {
    "pycharm": {
     "name": "#%%\n"
    }
   },
   "outputs": [],
   "source": [
    "import pandas as pd\n",
    "\n",
    "df = pd.DataFrame({\"col1\": [1, 2, 3], \"col2\": [\"One\", \"Two\", \"Three\"]})"
   ]
  },
  {
   "cell_type": "code",
   "execution_count": 7,
   "metadata": {
    "pycharm": {
     "name": "#%%\n"
    }
   },
   "outputs": [
    {
     "data": {
      "text/markdown": [
       "\n",
       "<details open>\n",
       "<summary>Details can be viewed inside.</summary>\n",
       "\n",
       "<table border=\"1\" class=\"dataframe\">\n",
       "  <thead>\n",
       "    <tr style=\"text-align: right;\">\n",
       "      <th></th>\n",
       "      <th>col1</th>\n",
       "      <th>col2</th>\n",
       "    </tr>\n",
       "  </thead>\n",
       "  <tbody>\n",
       "    <tr>\n",
       "      <th>0</th>\n",
       "      <td>1</td>\n",
       "      <td>One</td>\n",
       "    </tr>\n",
       "    <tr>\n",
       "      <th>1</th>\n",
       "      <td>2</td>\n",
       "      <td>Two</td>\n",
       "    </tr>\n",
       "    <tr>\n",
       "      <th>2</th>\n",
       "      <td>3</td>\n",
       "      <td>Three</td>\n",
       "    </tr>\n",
       "  </tbody>\n",
       "</table>\n",
       "\n",
       "</details>"
      ],
      "text/plain": [
       "<IPython.core.display.Markdown object>"
      ]
     },
     "execution_count": 7,
     "metadata": {},
     "output_type": "execute_result"
    }
   ],
   "source": [
    "%%jmd\n",
    "\n",
    "<details open>\n",
    "<summary>Details can be viewed inside.</summary>\n",
    "\n",
    "{{ df.to_html() }}\n",
    "\n",
    "</details>"
   ]
  },
  {
   "cell_type": "markdown",
   "metadata": {
    "pycharm": {
     "name": "#%% md\n"
    }
   },
   "source": [
    "## Plots\n",
    "\n",
    "Even plots can be displayed as part of the Jinja Markdown."
   ]
  },
  {
   "cell_type": "code",
   "execution_count": 8,
   "metadata": {
    "pycharm": {
     "name": "#%%\n"
    }
   },
   "outputs": [],
   "source": [
    "from pretty_jupyter.helpers import matplotlib_fig_to_html\n",
    "import seaborn as sns\n",
    "import matplotlib.pyplot as plt\n",
    "sns.set_theme()"
   ]
  },
  {
   "cell_type": "code",
   "execution_count": 9,
   "metadata": {
    "pycharm": {
     "name": "#%%\n"
    }
   },
   "outputs": [
    {
     "data": {
      "text/markdown": [
       "\n",
       "The figure is displayed below:\n",
       "\n",
       "<img src='data:image/png;base64,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' />\n",
       "\n",
       "And we can continue our text further here."
      ],
      "text/plain": [
       "<IPython.core.display.Markdown object>"
      ]
     },
     "execution_count": 9,
     "metadata": {},
     "output_type": "execute_result"
    }
   ],
   "source": [
    "%%jmd\n",
    "\n",
    "The figure is displayed below:\n",
    "\n",
    "{{ matplotlib_fig_to_html(sns.countplot(x=df[\"col1\"]).figure) }}\n",
    "\n",
    "And we can continue our text further here."
   ]
  },
  {
   "cell_type": "markdown",
   "metadata": {
    "pycharm": {
     "name": "#%% md\n"
    }
   },
   "source": [
    "We can do the same with **Plotly** or other interactive plotting frameworks. Unfortunately, some IDEs do not show the plotly graph, even though it its generated in the final report."
   ]
  },
  {
   "cell_type": "code",
   "execution_count": 10,
   "metadata": {
    "pycharm": {
     "name": "#%%\n"
    }
   },
   "outputs": [],
   "source": [
    "import plotly.express as px\n",
    "\n",
    "fig = px.bar(x=[\"a\", \"b\", \"c\"], y=[1, 3, 2])"
   ]
  },
  {
   "cell_type": "code",
   "execution_count": 11,
   "metadata": {
    "pycharm": {
     "name": "#%%\n"
    }
   },
   "outputs": [
    {
     "data": {
      "text/markdown": [
       "\n",
       "It is simple to use it with Jinja Markdown.\n",
       "\n",
       "<div>                            <div id=\"7ce129ba-1bcc-4c07-b524-6b57f5450c73\" class=\"plotly-graph-div\" style=\"height:400px; width:600px;\"></div>            <script type=\"text/javascript\">                                    window.PLOTLYENV=window.PLOTLYENV || {};                                    if (document.getElementById(\"7ce129ba-1bcc-4c07-b524-6b57f5450c73\")) {                    Plotly.newPlot(                        \"7ce129ba-1bcc-4c07-b524-6b57f5450c73\",                        [{\"alignmentgroup\":\"True\",\"hovertemplate\":\"x=%{x}<br>y=%{y}<extra></extra>\",\"legendgroup\":\"\",\"marker\":{\"color\":\"#636efa\",\"pattern\":{\"shape\":\"\"}},\"name\":\"\",\"offsetgroup\":\"\",\"orientation\":\"v\",\"showlegend\":false,\"textposition\":\"auto\",\"x\":[\"a\",\"b\",\"c\"],\"xaxis\":\"x\",\"y\":[1,3,2],\"yaxis\":\"y\",\"type\":\"bar\"}],                        {\"template\":{\"data\":{\"histogram2dcontour\":[{\"type\":\"histogram2dcontour\",\"colorbar\":{\"outlinewidth\":0,\"ticks\":\"\"},\"colorscale\":[[0.0,\"#0d0887\"],[0.1111111111111111,\"#46039f\"],[0.2222222222222222,\"#7201a8\"],[0.3333333333333333,\"#9c179e\"],[0.4444444444444444,\"#bd3786\"],[0.5555555555555556,\"#d8576b\"],[0.6666666666666666,\"#ed7953\"],[0.7777777777777778,\"#fb9f3a\"],[0.8888888888888888,\"#fdca26\"],[1.0,\"#f0f921\"]]}],\"choropleth\":[{\"type\":\"choropleth\",\"colorbar\":{\"outlinewidth\":0,\"ticks\":\"\"}}],\"histogram2d\":[{\"type\":\"histogram2d\",\"colorbar\":{\"outlinewidth\":0,\"ticks\":\"\"},\"colorscale\":[[0.0,\"#0d0887\"],[0.1111111111111111,\"#46039f\"],[0.2222222222222222,\"#7201a8\"],[0.3333333333333333,\"#9c179e\"],[0.4444444444444444,\"#bd3786\"],[0.5555555555555556,\"#d8576b\"],[0.6666666666666666,\"#ed7953\"],[0.7777777777777778,\"#fb9f3a\"],[0.8888888888888888,\"#fdca26\"],[1.0,\"#f0f921\"]]}],\"heatmap\":[{\"type\":\"heatmap\",\"colorbar\":{\"outlinewidth\":0,\"ticks\":\"\"},\"colorscale\":[[0.0,\"#0d0887\"],[0.1111111111111111,\"#46039f\"],[0.2222222222222222,\"#7201a8\"],[0.3333333333333333,\"#9c179e\"],[0.4444444444444444,\"#bd3786\"],[0.5555555555555556,\"#d8576b\"],[0.6666666666666666,\"#ed7953\"],[0.7777777777777778,\"#fb9f3a\"],[0.8888888888888888,\"#fdca26\"],[1.0,\"#f0f921\"]]}],\"heatmapgl\":[{\"type\":\"heatmapgl\",\"colorbar\":{\"outlinewidth\":0,\"ticks\":\"\"},\"colorscale\":[[0.0,\"#0d0887\"],[0.1111111111111111,\"#46039f\"],[0.2222222222222222,\"#7201a8\"],[0.3333333333333333,\"#9c179e\"],[0.4444444444444444,\"#bd3786\"],[0.5555555555555556,\"#d8576b\"],[0.6666666666666666,\"#ed7953\"],[0.7777777777777778,\"#fb9f3a\"],[0.8888888888888888,\"#fdca26\"],[1.0,\"#f0f921\"]]}],\"contourcarpet\":[{\"type\":\"contourcarpet\",\"colorbar\":{\"outlinewidth\":0,\"ticks\":\"\"}}],\"contour\":[{\"type\":\"contour\",\"colorbar\":{\"outlinewidth\":0,\"ticks\":\"\"},\"colorscale\":[[0.0,\"#0d0887\"],[0.1111111111111111,\"#46039f\"],[0.2222222222222222,\"#7201a8\"],[0.3333333333333333,\"#9c179e\"],[0.4444444444444444,\"#bd3786\"],[0.5555555555555556,\"#d8576b\"],[0.6666666666666666,\"#ed7953\"],[0.7777777777777778,\"#fb9f3a\"],[0.8888888888888888,\"#fdca26\"],[1.0,\"#f0f921\"]]}],\"surface\":[{\"type\":\"surface\",\"colorbar\":{\"outlinewidth\":0,\"ticks\":\"\"},\"colorscale\":[[0.0,\"#0d0887\"],[0.1111111111111111,\"#46039f\"],[0.2222222222222222,\"#7201a8\"],[0.3333333333333333,\"#9c179e\"],[0.4444444444444444,\"#bd3786\"],[0.5555555555555556,\"#d8576b\"],[0.6666666666666666,\"#ed7953\"],[0.7777777777777778,\"#fb9f3a\"],[0.8888888888888888,\"#fdca26\"],[1.0,\"#f0f921\"]]}],\"mesh3d\":[{\"type\":\"mesh3d\",\"colorbar\":{\"outlinewidth\":0,\"ticks\":\"\"}}],\"scatter\":[{\"fillpattern\":{\"fillmode\":\"overlay\",\"size\":10,\"solidity\":0.2},\"type\":\"scatter\"}],\"parcoords\":[{\"type\":\"parcoords\",\"line\":{\"colorbar\":{\"outlinewidth\":0,\"ticks\":\"\"}}}],\"scatterpolargl\":[{\"type\":\"scatterpolargl\",\"marker\":{\"colorbar\":{\"outlinewidth\":0,\"ticks\":\"\"}}}],\"bar\":[{\"error_x\":{\"color\":\"#2a3f5f\"},\"error_y\":{\"color\":\"#2a3f5f\"},\"marker\":{\"line\":{\"color\":\"#E5ECF6\",\"width\":0.5},\"pattern\":{\"fillmode\":\"overlay\",\"size\":10,\"solidity\":0.2}},\"type\":\"bar\"}],\"scattergeo\":[{\"type\":\"scattergeo\",\"marker\":{\"colorbar\":{\"outlinewidth\":0,\"ticks\":\"\"}}}],\"scatterpolar\":[{\"type\":\"scatterpolar\",\"marker\":{\"colorbar\":{\"outlinewidth\":0,\"ticks\":\"\"}}}],\"histogram\":[{\"marker\":{\"pattern\":{\"fillmode\":\"overlay\",\"size\":10,\"solidity\":0.2}},\"type\":\"histogram\"}],\"scattergl\":[{\"type\":\"scattergl\",\"marker\":{\"colorbar\":{\"outlinewidth\":0,\"ticks\":\"\"}}}],\"scatter3d\":[{\"type\":\"scatter3d\",\"line\":{\"colorbar\":{\"outlinewidth\":0,\"ticks\":\"\"}},\"marker\":{\"colorbar\":{\"outlinewidth\":0,\"ticks\":\"\"}}}],\"scattermapbox\":[{\"type\":\"scattermapbox\",\"marker\":{\"colorbar\":{\"outlinewidth\":0,\"ticks\":\"\"}}}],\"scatterternary\":[{\"type\":\"scatterternary\",\"marker\":{\"colorbar\":{\"outlinewidth\":0,\"ticks\":\"\"}}}],\"scattercarpet\":[{\"type\":\"scattercarpet\",\"marker\":{\"colorbar\":{\"outlinewidth\":0,\"ticks\":\"\"}}}],\"carpet\":[{\"aaxis\":{\"endlinecolor\":\"#2a3f5f\",\"gridcolor\":\"white\",\"linecolor\":\"white\",\"minorgridcolor\":\"white\",\"startlinecolor\":\"#2a3f5f\"},\"baxis\":{\"endlinecolor\":\"#2a3f5f\",\"gridcolor\":\"white\",\"linecolor\":\"white\",\"minorgridcolor\":\"white\",\"startlinecolor\":\"#2a3f5f\"},\"type\":\"carpet\"}],\"table\":[{\"cells\":{\"fill\":{\"color\":\"#EBF0F8\"},\"line\":{\"color\":\"white\"}},\"header\":{\"fill\":{\"color\":\"#C8D4E3\"},\"line\":{\"color\":\"white\"}},\"type\":\"table\"}],\"barpolar\":[{\"marker\":{\"line\":{\"color\":\"#E5ECF6\",\"width\":0.5},\"pattern\":{\"fillmode\":\"overlay\",\"size\":10,\"solidity\":0.2}},\"type\":\"barpolar\"}],\"pie\":[{\"automargin\":true,\"type\":\"pie\"}]},\"layout\":{\"autotypenumbers\":\"strict\",\"colorway\":[\"#636efa\",\"#EF553B\",\"#00cc96\",\"#ab63fa\",\"#FFA15A\",\"#19d3f3\",\"#FF6692\",\"#B6E880\",\"#FF97FF\",\"#FECB52\"],\"font\":{\"color\":\"#2a3f5f\"},\"hovermode\":\"closest\",\"hoverlabel\":{\"align\":\"left\"},\"paper_bgcolor\":\"white\",\"plot_bgcolor\":\"#E5ECF6\",\"polar\":{\"bgcolor\":\"#E5ECF6\",\"angularaxis\":{\"gridcolor\":\"white\",\"linecolor\":\"white\",\"ticks\":\"\"},\"radialaxis\":{\"gridcolor\":\"white\",\"linecolor\":\"white\",\"ticks\":\"\"}},\"ternary\":{\"bgcolor\":\"#E5ECF6\",\"aaxis\":{\"gridcolor\":\"white\",\"linecolor\":\"white\",\"ticks\":\"\"},\"baxis\":{\"gridcolor\":\"white\",\"linecolor\":\"white\",\"ticks\":\"\"},\"caxis\":{\"gridcolor\":\"white\",\"linecolor\":\"white\",\"ticks\":\"\"}},\"coloraxis\":{\"colorbar\":{\"outlinewidth\":0,\"ticks\":\"\"}},\"colorscale\":{\"sequential\":[[0.0,\"#0d0887\"],[0.1111111111111111,\"#46039f\"],[0.2222222222222222,\"#7201a8\"],[0.3333333333333333,\"#9c179e\"],[0.4444444444444444,\"#bd3786\"],[0.5555555555555556,\"#d8576b\"],[0.6666666666666666,\"#ed7953\"],[0.7777777777777778,\"#fb9f3a\"],[0.8888888888888888,\"#fdca26\"],[1.0,\"#f0f921\"]],\"sequentialminus\":[[0.0,\"#0d0887\"],[0.1111111111111111,\"#46039f\"],[0.2222222222222222,\"#7201a8\"],[0.3333333333333333,\"#9c179e\"],[0.4444444444444444,\"#bd3786\"],[0.5555555555555556,\"#d8576b\"],[0.6666666666666666,\"#ed7953\"],[0.7777777777777778,\"#fb9f3a\"],[0.8888888888888888,\"#fdca26\"],[1.0,\"#f0f921\"]],\"diverging\":[[0,\"#8e0152\"],[0.1,\"#c51b7d\"],[0.2,\"#de77ae\"],[0.3,\"#f1b6da\"],[0.4,\"#fde0ef\"],[0.5,\"#f7f7f7\"],[0.6,\"#e6f5d0\"],[0.7,\"#b8e186\"],[0.8,\"#7fbc41\"],[0.9,\"#4d9221\"],[1,\"#276419\"]]},\"xaxis\":{\"gridcolor\":\"white\",\"linecolor\":\"white\",\"ticks\":\"\",\"title\":{\"standoff\":15},\"zerolinecolor\":\"white\",\"automargin\":true,\"zerolinewidth\":2},\"yaxis\":{\"gridcolor\":\"white\",\"linecolor\":\"white\",\"ticks\":\"\",\"title\":{\"standoff\":15},\"zerolinecolor\":\"white\",\"automargin\":true,\"zerolinewidth\":2},\"scene\":{\"xaxis\":{\"backgroundcolor\":\"#E5ECF6\",\"gridcolor\":\"white\",\"linecolor\":\"white\",\"showbackground\":true,\"ticks\":\"\",\"zerolinecolor\":\"white\",\"gridwidth\":2},\"yaxis\":{\"backgroundcolor\":\"#E5ECF6\",\"gridcolor\":\"white\",\"linecolor\":\"white\",\"showbackground\":true,\"ticks\":\"\",\"zerolinecolor\":\"white\",\"gridwidth\":2},\"zaxis\":{\"backgroundcolor\":\"#E5ECF6\",\"gridcolor\":\"white\",\"linecolor\":\"white\",\"showbackground\":true,\"ticks\":\"\",\"zerolinecolor\":\"white\",\"gridwidth\":2}},\"shapedefaults\":{\"line\":{\"color\":\"#2a3f5f\"}},\"annotationdefaults\":{\"arrowcolor\":\"#2a3f5f\",\"arrowhead\":0,\"arrowwidth\":1},\"geo\":{\"bgcolor\":\"white\",\"landcolor\":\"#E5ECF6\",\"subunitcolor\":\"white\",\"showland\":true,\"showlakes\":true,\"lakecolor\":\"white\"},\"title\":{\"x\":0.05},\"mapbox\":{\"style\":\"light\"}}},\"xaxis\":{\"anchor\":\"y\",\"domain\":[0.0,1.0],\"title\":{\"text\":\"x\"}},\"yaxis\":{\"anchor\":\"x\",\"domain\":[0.0,1.0],\"title\":{\"text\":\"y\"}},\"legend\":{\"tracegroupgap\":0},\"margin\":{\"t\":60},\"barmode\":\"relative\"},                        {\"responsive\": true}                    )                };                            </script>        </div>"
      ],
      "text/plain": [
       "<IPython.core.display.Markdown object>"
      ]
     },
     "execution_count": 11,
     "metadata": {},
     "output_type": "execute_result"
    }
   ],
   "source": [
    "%%jmd\n",
    "\n",
    "It is simple to use it with Jinja Markdown.\n",
    "\n",
    "{{ fig.to_html(include_plotlyjs=False, full_html=False, default_height=400, default_width=600) }}"
   ]
  },
  {
   "cell_type": "markdown",
   "metadata": {
    "pycharm": {
     "name": "#%% md\n"
    }
   },
   "source": [
    "# Code Folding\n",
    "\n",
    "You might've noticed that there are a lot of `Hide` buttons on the right. This is a functionality called **Code Folding**. It allows us to hide and show code and results in a more dynamic and visually appealing report.\n",
    "\n",
    "This functionality can be tweaked in the notebook-level metadata with attribute `code_folding`. For example:\n",
    "\n",
    "```yaml\n",
    "output:\n",
    "    html:\n",
    "        code_folding: hide\n",
    "```\n",
    "\n",
    "Value `show` means that all code cells inputs will be visible at the document load. If we specify value `hide` in there, then all codes will be hidden at the beginning (this is also default when the property is missing). Any other value will result in the Code Folding functionality being turned off, hence all inputs will be visible.\n",
    "\n",
    "There is also a button on the top with `Code All` that allows us to toggle all codes on or off. This option is turned on by `code_tools: true`."
   ]
  }
 ],
 "metadata": {
  "kernelspec": {
   "display_name": "Python 3 (ipykernel)",
   "language": "python",
   "name": "python3"
  },
  "language_info": {
   "codemirror_mode": {
    "name": "ipython",
    "version": 3
   },
   "file_extension": ".py",
   "mimetype": "text/x-python",
   "name": "python",
   "nbconvert_exporter": "python",
   "pygments_lexer": "ipython3",
   "version": "3.9.13"
  },
  "vscode": {
   "interpreter": {
    "hash": "4001391cff8576e5f8bd84e9f8399980545d172b9d1487fb90005c2dcd29ff5a"
   }
  }
 },
 "nbformat": 4,
 "nbformat_minor": 4
}