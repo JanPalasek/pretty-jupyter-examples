{
 "cells": [
  {
   "cell_type": "code",
   "execution_count": 1,
   "metadata": {},
   "outputs": [],
   "source": [
    "%load_ext pretty_jupyter"
   ]
  },
  {
   "cell_type": "code",
   "execution_count": 2,
   "metadata": {},
   "outputs": [
    {
     "data": {
      "text/markdown": [
       "\n",
       "# Chapter 1\n",
       "<span class='pj-token tabset tabset-pills' style='display: none;'></span>\n",
       "\n",
       "Some text.\n",
       "\n",
       "## First Tab\n",
       "\n",
       "Some maths: $a = 5$\n",
       "\n",
       "\n",
       "$$a^2 = a \\cdot a$$\n",
       "\n",
       "$$5^2 = 5 \\cdot 5 = 25$$\n",
       "\n",
       "\n",
       "## Second Tab\n",
       "\n",
       "Content of Second Tab.\n",
       "\n",
       "## Third Tab\n",
       "\n",
       "Content of Third Tab."
      ],
      "text/plain": [
       "<IPython.core.display.Markdown object>"
      ]
     },
     "execution_count": 2,
     "metadata": {},
     "output_type": "execute_result"
    }
   ],
   "source": [
    "%%jinja markdown\n",
    "\n",
    "# Chapter 1\n",
    "[//]: <> (-.- tabset tabset-pills)\n",
    "\n",
    "Some text.\n",
    "\n",
    "## First Tab\n",
    "\n",
    "Some maths: $a = 5$\n",
    "\n",
    "\n",
    "$$a^2 = a \\cdot a$$\n",
    "\n",
    "$$5^2 = 5 \\cdot 5 = 25$$\n",
    "\n",
    "\n",
    "## Second Tab\n",
    "\n",
    "Content of Second Tab.\n",
    "\n",
    "## Third Tab\n",
    "\n",
    "Content of Third Tab."
   ]
  },
  {
   "cell_type": "code",
   "execution_count": 3,
   "metadata": {},
   "outputs": [
    {
     "data": {
      "text/markdown": [
       "\n",
       "# Chapter 2"
      ],
      "text/plain": [
       "<IPython.core.display.Markdown object>"
      ]
     },
     "execution_count": 3,
     "metadata": {},
     "output_type": "execute_result"
    }
   ],
   "source": [
    "%%jinja markdown\n",
    "\n",
    "# Chapter 2"
   ]
  }
 ],
 "metadata": {
  "author": "Jan Palasek",
  "kernelspec": {
   "display_name": "Python 3.9.13 64-bit (windows store)",
   "language": "python",
   "name": "python3"
  },
  "language_info": {
   "codemirror_mode": {
    "name": "ipython",
    "version": 3
   },
   "file_extension": ".py",
   "mimetype": "text/x-python",
   "name": "python",
   "nbconvert_exporter": "python",
   "pygments_lexer": "ipython3",
   "version": "3.9.13"
  },
  "orig_nbformat": 4,
  "title": "Extending the Template",
  "vscode": {
   "interpreter": {
    "hash": "0d88bef2653eaef6020a4028ae66ca269438ebe73b140c29e9dd1ec5a1f1cd70"
   }
  }
 },
 "nbformat": 4,
 "nbformat_minor": 2
}
