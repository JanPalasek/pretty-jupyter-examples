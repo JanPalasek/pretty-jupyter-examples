{
    "cells": [
        {
            "cell_type": "raw",
            "metadata": {},
            "source": [
                "title: Metadata\n",
                "output:\n",
                "    general:\n",
                "        input_jinja: false\n",
                "        output_error: false\n",
                "    html:\n",
                "        toc_depth: 1"
            ]
        },
        {
            "cell_type": "code",
            "execution_count": 2,
            "metadata": {},
            "outputs": [],
            "source": [
                "%load_ext pretty_jupyter"
            ]
        },
        {
            "cell_type": "code",
            "execution_count": 16,
            "metadata": {},
            "outputs": [
                {
                    "data": {
                        "text/markdown": [
                            "\n",
                            "# Cell-level Metadata\n",
                            "<span class='pj-token' style='display: none;'>.tabset|O_O|.tabset-pills|O_O|.tabset-fade</span>"
                        ],
                        "text/plain": [
                            "<IPython.core.display.Markdown object>"
                        ]
                    },
                    "execution_count": 16,
                    "metadata": {},
                    "output_type": "execute_result"
                }
            ],
            "source": [
                "%%jmd\n",
                "\n",
                "# Cell-level Metadata\n",
                "[//]: # (-.- .tabset .tabset-pills .tabset-fade)"
            ]
        },
        {
            "cell_type": "code",
            "execution_count": 8,
            "metadata": {},
            "outputs": [
                {
                    "data": {
                        "text/markdown": [
                            "\n",
                            "## Code Cell"
                        ],
                        "text/plain": [
                            "<IPython.core.display.Markdown object>"
                        ]
                    },
                    "execution_count": 8,
                    "metadata": {},
                    "output_type": "execute_result"
                }
            ],
            "source": [
                "%%jmd\n",
                "\n",
                "## Code Cell"
            ]
        },
        {
            "cell_type": "code",
            "execution_count": 27,
            "metadata": {},
            "outputs": [
                {
                    "name": "stdout",
                    "output_type": "stream",
                    "text": [
                        "10\n"
                    ]
                }
            ],
            "source": [
                "# -.-|m { input: true, output: true, input_fold: show}\n",
                "a = 10\n",
                "print(a)"
            ]
        },
        {
            "cell_type": "code",
            "execution_count": 9,
            "metadata": {},
            "outputs": [
                {
                    "data": {
                        "text/markdown": [
                            "\n",
                            "## Jinja Markdown Cell"
                        ],
                        "text/plain": [
                            "<IPython.core.display.Markdown object>"
                        ]
                    },
                    "execution_count": 9,
                    "metadata": {},
                    "output_type": "execute_result"
                }
            ],
            "source": [
                "%%jmd\n",
                "\n",
                "## Jinja Markdown Cell"
            ]
        },
        {
            "cell_type": "code",
            "execution_count": 26,
            "metadata": {},
            "outputs": [
                {
                    "data": {
                        "text/markdown": [
                            "[//]: # (-.-|m { input: true, output: false, input_fold: show })\n",
                            "\n",
                            "This Jinja Markdown has input on and output off."
                        ],
                        "text/plain": [
                            "<IPython.core.display.Markdown object>"
                        ]
                    },
                    "execution_count": 26,
                    "metadata": {},
                    "output_type": "execute_result"
                }
            ],
            "source": [
                "%%jmd\n",
                "[//]: # (-.-|m { input: true, output: false, input_fold: show })\n",
                "\n",
                "This Jinja Markdown has input on and output off.\n"
            ]
        },
        {
            "cell_type": "code",
            "execution_count": 12,
            "metadata": {},
            "outputs": [
                {
                    "data": {
                        "text/markdown": [
                            "\n",
                            "# \n",
                            "<span class='pj-token' style='display: none;'>.toc-ignore</span>"
                        ],
                        "text/plain": [
                            "<IPython.core.display.Markdown object>"
                        ]
                    },
                    "execution_count": 12,
                    "metadata": {},
                    "output_type": "execute_result"
                }
            ],
            "source": [
                "%%jmd\n",
                "\n",
                "# \n",
                "[//]: # (-.- .toc-ignore)"
            ]
        },
        {
            "cell_type": "code",
            "execution_count": 14,
            "metadata": {},
            "outputs": [
                {
                    "data": {
                        "text/markdown": [
                            "\n",
                            "We can also show or hide output errors, for example:"
                        ],
                        "text/plain": [
                            "<IPython.core.display.Markdown object>"
                        ]
                    },
                    "execution_count": 14,
                    "metadata": {},
                    "output_type": "execute_result"
                }
            ],
            "source": [
                "%%jmd\n",
                "\n",
                "We can also show or hide output errors, for example:"
            ]
        },
        {
            "cell_type": "code",
            "execution_count": 15,
            "metadata": {},
            "outputs": [
                {
                    "ename": "ValueError",
                    "evalue": "Some Error.",
                    "output_type": "error",
                    "traceback": [
                        "\u001b[1;31m---------------------------------------------------------------------------\u001b[0m",
                        "\u001b[1;31mValueError\u001b[0m                                Traceback (most recent call last)",
                        "\u001b[1;32mc:\\Users\\janpa\\Documents\\projects\\pretty-jupyter-examples\\metadata\\metadata.ipynb Cell 10\u001b[0m in \u001b[0;36m<cell line: 3>\u001b[1;34m()\u001b[0m\n\u001b[0;32m      <a href='vscode-notebook-cell:/c%3A/Users/janpa/Documents/projects/pretty-jupyter-examples/metadata/metadata.ipynb#X12sZmlsZQ%3D%3D?line=0'>1</a>\u001b[0m \u001b[39m# -.-|m { output_error: true, input: true}\u001b[39;00m\n\u001b[1;32m----> <a href='vscode-notebook-cell:/c%3A/Users/janpa/Documents/projects/pretty-jupyter-examples/metadata/metadata.ipynb#X12sZmlsZQ%3D%3D?line=2'>3</a>\u001b[0m \u001b[39mraise\u001b[39;00m \u001b[39mValueError\u001b[39;00m(\u001b[39m\"\u001b[39m\u001b[39mSome Error.\u001b[39m\u001b[39m\"\u001b[39m)\n",
                        "\u001b[1;31mValueError\u001b[0m: Some Error."
                    ]
                }
            ],
            "source": [
                "# -.-|m { output_error: true, input: true}\n",
                "\n",
                "raise ValueError(\"Some Error.\")"
            ]
        },
        {
            "cell_type": "code",
            "execution_count": 22,
            "metadata": {
                "pj_metadata": {
                    "input": true
                }
            },
            "outputs": [
                {
                    "data": {
                        "text/markdown": [
                            "\n",
                            "**Alternatively, we can modify the cell in its metadata. For example, this cell has an input turned on\n",
                            "from there.**\n",
                            "\n",
                            "Note that each cell can its metadata set only from code or notebook metadata. If we specify it in both places, the cell-level metadata specified in code take precedence.\n",
                            "\n",
                            "<span class='pj-token' style='display: none;'>.alert|O_O|.alert-warning</span>"
                        ],
                        "text/plain": [
                            "<IPython.core.display.Markdown object>"
                        ]
                    },
                    "execution_count": 22,
                    "metadata": {},
                    "output_type": "execute_result"
                }
            ],
            "source": [
                "%%jmd\n",
                "\n",
                "**Alternatively, we can modify the cell in its metadata. For example, this cell has an input turned on\n",
                "from there.**\n",
                "\n",
                "Note that each cell can its metadata set only from code or notebook metadata. If we specify it in both places, the cell-level metadata specified in code take precedence.\n",
                "\n",
                "[//]: # (-.- .alert .alert-warning)\n",
                "\n"
            ]
        },
        {
            "cell_type": "code",
            "execution_count": 17,
            "metadata": {},
            "outputs": [
                {
                    "data": {
                        "text/markdown": [
                            "\n",
                            "# Notebook-level Metadata"
                        ],
                        "text/plain": [
                            "<IPython.core.display.Markdown object>"
                        ]
                    },
                    "execution_count": 17,
                    "metadata": {},
                    "output_type": "execute_result"
                }
            ],
            "source": [
                "%%jmd\n",
                "\n",
                "# Notebook-level Metadata"
            ]
        },
        {
            "cell_type": "code",
            "execution_count": 28,
            "metadata": {},
            "outputs": [
                {
                    "data": {
                        "text/markdown": [
                            "\n",
                            "Notebook-level metadata work very similarly to the cell-level metadata. Again, we can specify it both in the notebook metadata or in the code.\n",
                            "\n",
                            "If we want to specify it in the code, we need to put it in the first cell with type **raw**."
                        ],
                        "text/plain": [
                            "<IPython.core.display.Markdown object>"
                        ]
                    },
                    "execution_count": 28,
                    "metadata": {},
                    "output_type": "execute_result"
                }
            ],
            "source": [
                "%%jmd\n",
                "\n",
                "Notebook-level metadata work very similarly to the cell-level metadata. Again, we can specify it both in the notebook metadata or in the code.\n",
                "\n",
                "If we want to specify it in the code, we need to put it in the first cell with type **raw**."
            ]
        },
        {
            "cell_type": "code",
            "execution_count": 29,
            "metadata": {},
            "outputs": [
                {
                    "data": {
                        "text/markdown": [
                            "\n",
                            "Notebook-level metadata specify notebook-level settings that can be often overriden on the cell-level."
                        ],
                        "text/plain": [
                            "<IPython.core.display.Markdown object>"
                        ]
                    },
                    "execution_count": 29,
                    "metadata": {},
                    "output_type": "execute_result"
                }
            ],
            "source": [
                "%%jmd\n",
                "\n",
                "Notebook-level metadata specify notebook-level settings that can be often overriden on the cell-level."
            ]
        }
    ],
    "metadata": {
        "kernelspec": {
            "display_name": "Python 3.9.13 ('venv': venv)",
            "language": "python",
            "name": "python3"
        },
        "language_info": {
            "codemirror_mode": {
                "name": "ipython",
                "version": 3
            },
            "file_extension": ".py",
            "mimetype": "text/x-python",
            "name": "python",
            "nbconvert_exporter": "python",
            "pygments_lexer": "ipython3",
            "version": "3.9.13"
        },
        "vscode": {
            "interpreter": {
                "hash": "4001391cff8576e5f8bd84e9f8399980545d172b9d1487fb90005c2dcd29ff5a"
            }
        }
    },
    "nbformat": 4,
    "nbformat_minor": 2
}
