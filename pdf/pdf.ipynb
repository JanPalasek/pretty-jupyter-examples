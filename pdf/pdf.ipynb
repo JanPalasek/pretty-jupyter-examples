{
 "cells": [
  {
   "cell_type": "raw",
   "metadata": {},
   "source": [
    "title: PDF\n",
    "output:\n",
    "    general:\n",
    "        input: true\n",
    "    html:\n",
    "        toc: false\n",
    "        tabset: false\n",
    "        code_folding: disable\n",
    "        number_sections: true"
   ]
  },
  {
   "cell_type": "code",
   "execution_count": 1,
   "metadata": {},
   "outputs": [],
   "source": [
    "%load_ext pretty_jupyter"
   ]
  },
  {
   "cell_type": "code",
   "execution_count": 2,
   "metadata": {},
   "outputs": [
    {
     "data": {
      "text/markdown": [
       "\n",
       "# Introduction\n",
       "\n",
       "In this notebook, we will look at the possibility to export PDF. Generally, there are two ways. Either export to HTML and then get PDF via browser, or via latex (directly).\n",
       "\n",
       "If we want to use latex method, we need to avoid using HTML. Instead, we need to use Markdown. So for example we shouldn't output pandas table to html in jinja markdown,\n",
       "but rather to markdown. Similar holds for matplotlib figures etc.\n",
       "\n",
       "Note: Currently Markdown images are not working in Latex PDF export. If we want to display figure, use standard show function in a code cell.\n",
       "\n",
       "<span class='pj-token' style='display: none;'>.alert|O_O|.alert-info</span>"
      ],
      "text/plain": [
       "<IPython.core.display.Markdown object>"
      ]
     },
     "execution_count": 2,
     "metadata": {},
     "output_type": "execute_result"
    }
   ],
   "source": [
    "%%jmd\n",
    "\n",
    "# Introduction\n",
    "\n",
    "In this notebook, we will look at the possibility to export PDF. Generally, there are two ways. Either export to HTML and then get PDF via browser, or via latex (directly).\n",
    "\n",
    "If we want to use latex method, we need to avoid using HTML. Instead, we need to use Markdown. So for example we shouldn't output pandas table to html in jinja markdown,\n",
    "but rather to markdown. Similar holds for matplotlib figures etc.\n",
    "\n",
    "Note: Currently Markdown images are not working in Latex PDF export. If we want to display figure, use standard show function in a code cell.\n",
    "\n",
    "[//]: # (-.- .alert .alert-info)"
   ]
  },
  {
   "cell_type": "code",
   "execution_count": 3,
   "metadata": {},
   "outputs": [
    {
     "data": {
      "text/markdown": [
       "\n",
       "# Pandas"
      ],
      "text/plain": [
       "<IPython.core.display.Markdown object>"
      ]
     },
     "execution_count": 3,
     "metadata": {},
     "output_type": "execute_result"
    }
   ],
   "source": [
    "%%jmd\n",
    "\n",
    "# Pandas\n"
   ]
  },
  {
   "cell_type": "code",
   "execution_count": 4,
   "metadata": {},
   "outputs": [],
   "source": [
    "import pandas as pd\n",
    "\n",
    "data = pd.DataFrame({\"a\": [1, 2, 3, 4], \"b\": [4, 5, 6, 7]})"
   ]
  },
  {
   "cell_type": "code",
   "execution_count": 5,
   "metadata": {},
   "outputs": [
    {
     "data": {
      "text/markdown": [
       "\n",
       "|   a |   b |\n",
       "|----:|----:|\n",
       "|   1 |   4 |\n",
       "|   2 |   5 |\n",
       "|   3 |   6 |\n",
       "|   4 |   7 |"
      ],
      "text/plain": [
       "<IPython.core.display.Markdown object>"
      ]
     },
     "execution_count": 5,
     "metadata": {},
     "output_type": "execute_result"
    }
   ],
   "source": [
    "%%jmd\n",
    "\n",
    "{{ data.to_markdown(index=False) }}"
   ]
  },
  {
   "cell_type": "code",
   "execution_count": 6,
   "metadata": {},
   "outputs": [
    {
     "data": {
      "text/markdown": [
       "\n",
       "# Plot"
      ],
      "text/plain": [
       "<IPython.core.display.Markdown object>"
      ]
     },
     "execution_count": 6,
     "metadata": {},
     "output_type": "execute_result"
    }
   ],
   "source": [
    "%%jmd\n",
    "\n",
    "# Plot"
   ]
  },
  {
   "cell_type": "code",
   "execution_count": 7,
   "metadata": {},
   "outputs": [],
   "source": [
    "import matplotlib.pyplot as plt\n",
    "import seaborn as sns\n",
    "\n",
    "sns.set_theme(style=\"whitegrid\")"
   ]
  },
  {
   "cell_type": "code",
   "execution_count": 8,
   "metadata": {},
   "outputs": [
    {
     "data": {
      "image/png": "[encoded data removed]",
      "text/plain": [
       "<Figure size 432x288 with 1 Axes>"
      ]
     },
     "metadata": {
      "needs_background": "light"
     },
     "output_type": "display_data"
    }
   ],
   "source": [
    "ax = sns.lineplot(x=data[\"a\"], y=data[\"b\"], marker=\"o\")\n",
    "ax.set(title=\"Figure Title\")\n",
    "plt.show()"
   ]
  }
 ],
 "metadata": {
  "kernelspec": {
   "display_name": "Python 3.9.13 ('venv': venv)",
   "language": "python",
   "name": "python3"
  },
  "language_info": {
   "codemirror_mode": {
    "name": "ipython",
    "version": 3
   },
   "file_extension": ".py",
   "mimetype": "text/x-python",
   "name": "python",
   "nbconvert_exporter": "python",
   "pygments_lexer": "ipython3",
   "version": "3.9.13"
  },
  "orig_nbformat": 4,
  "vscode": {
   "interpreter": {
    "hash": "4001391cff8576e5f8bd84e9f8399980545d172b9d1487fb90005c2dcd29ff5a"
   }
  }
 },
 "nbformat": 4,
 "nbformat_minor": 2
}
